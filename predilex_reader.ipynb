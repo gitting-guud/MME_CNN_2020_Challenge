{
 "cells": [
  {
   "cell_type": "code",
   "execution_count": 1,
   "metadata": {},
   "outputs": [],
   "source": [
    "import os\n",
    "import pandas as pd"
   ]
  },
  {
   "cell_type": "code",
   "execution_count": 2,
   "metadata": {},
   "outputs": [],
   "source": [
    "#x_train data\n",
    "x_tr_df = pd.read_csv('./train_folder/x_train_ids.csv', index_col=0)\n",
    "tr_dir = \"./train_folder/txt_files/\"\n",
    "tr_files = x_tr_df['filename'].values\n",
    "tr_texts = []\n",
    "for tr_file in tr_files:\n",
    "    f = open(os.path.join(tr_dir, tr_file), \"r\")\n",
    "    tr_texts.append(f.read().replace('\\xa0', ' ').replace('\\n', ' '))\n",
    "\n",
    "#x_test data\n",
    "x_te_df = pd.read_csv('./test_folder/x_test_ids.csv', index_col=0)\n",
    "te_dir = \"./test_folder/txt_files/\"\n",
    "te_files = x_te_df['filename'].values\n",
    "te_texts = []\n",
    "for te_file in te_files:\n",
    "    f = open(os.path.join(te_dir, te_file), \"r\")\n",
    "    te_texts.append(f.read().replace('\\xa0', ' ').replace('\\n', ' '))\n",
    "\n",
    "\n",
    "#y_train data\n",
    "y_tr_df = pd.read_csv('./Y_train_predilex.csv', index_col=0)"
   ]
  },
  {
   "cell_type": "code",
   "execution_count": 9,
   "metadata": {},
   "outputs": [
    {
     "name": "stdout",
     "output_type": "stream",
     "text": [
      "File : Agen_100515.txt\n",
      "Text (200 first char): Le : 12/11/2019     Cour d’appel d’Agen    chambre sociale    Audience publique du 30 avril 2002    N° de RG: 01/00515          REPUBLIQUE FRANCAISE   AU NOM DU PEUPLE FRANCAIS   ARRET DU 30 AVRIL 200\n",
      "Output : \n",
      "sexe                       homme\n",
      "date_accident         1991-04-09\n",
      "date_consolidation          n.c.\n",
      "Name: 0, dtype: object\n"
     ]
    }
   ],
   "source": [
    "i = 0\n",
    "print('File :', x_tr_df.iloc[i]['filename'])\n",
    "print('Text (200 first char):', tr_texts[i][:200])\n",
    "print('Output : ')\n",
    "print(y_tr_df.iloc[i])"
   ]
  }
 ],
 "metadata": {
  "kernelspec": {
   "display_name": "Python 3",
   "language": "python",
   "name": "python3"
  },
  "language_info": {
   "codemirror_mode": {
    "name": "ipython",
    "version": 3
   },
   "file_extension": ".py",
   "mimetype": "text/x-python",
   "name": "python",
   "nbconvert_exporter": "python",
   "pygments_lexer": "ipython3",
   "version": "3.7.3"
  }
 },
 "nbformat": 4,
 "nbformat_minor": 2
}

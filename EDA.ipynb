{
 "cells": [
  {
   "cell_type": "code",
   "execution_count": 1,
   "metadata": {},
   "outputs": [],
   "source": [
    "from utils import *\n",
    "%load_ext autoreload\n",
    "%autoreload 2"
   ]
  },
  {
   "cell_type": "code",
   "execution_count": 2,
   "metadata": {
    "scrolled": true
   },
   "outputs": [
    {
     "name": "stdout",
     "output_type": "stream",
     "text": [
      "Reading training data ...\n",
      "Reading training data : Done\n",
      "Reading testing data ...\n",
      "Reading testing data : Done\n"
     ]
    }
   ],
   "source": [
    "X_train, y_train, X_test = read_train_test(sentence_per_row_mode=True)"
   ]
  },
  {
   "cell_type": "code",
   "execution_count": 3,
   "metadata": {},
   "outputs": [],
   "source": [
    "X_train[\"text_joined\"] = [\" \".join(X_train.text[i]) for i in range(X_train.shape[0])]"
   ]
  },
  {
   "cell_type": "code",
   "execution_count": 214,
   "metadata": {},
   "outputs": [],
   "source": [
    "from nltk.corpus import stopwords\n",
    "from nltk.stem.snowball import FrenchStemmer\n",
    "\n",
    "stop_words = set(stopwords.words('french'))\n",
    "stemmer = FrenchStemmer()\n",
    "\n",
    "def process_text(text, stem=False):\n",
    "    \"\"\" lowercase, removes stopwords, lemmatizes\"\"\"\n",
    "    text = unidecode.unidecode(text.replace(\"’\", \" \").lower())\n",
    "    tokens = text.split()\n",
    "    if stem :\n",
    "        tokens_no_stpwrd = [stemmer.stem(tok) for tok in tokens if tok not in stop_words]\n",
    "    else :\n",
    "        tokens_no_stpwrd = [tok for tok in tokens if tok not in stop_words]\n",
    "\n",
    "    return \" \".join(tokens_no_stpwrd)\n",
    "\n",
    "X_train[\"text_processed\"] = X_train.text_joined.apply(process_text, args=(False,))"
   ]
  },
  {
   "cell_type": "code",
   "execution_count": 4,
   "metadata": {},
   "outputs": [],
   "source": [
    "# y_train.loc[X_train[X_train.filename == \"Bordeaux_605561.txt\"].index]"
   ]
  },
  {
   "cell_type": "code",
   "execution_count": 3,
   "metadata": {},
   "outputs": [],
   "source": [
    "sex_prediction = X_train.text.apply(naive_sex_classifier, args=(0.85, 1))"
   ]
  },
  {
   "cell_type": "code",
   "execution_count": 11,
   "metadata": {},
   "outputs": [
    {
     "name": "stdout",
     "output_type": "stream",
     "text": [
      "Nombre de fois où on se trompe de sexe : 90\n",
      "Dont : 61 femmes\n"
     ]
    }
   ],
   "source": [
    "print(\"Nombre de fois où on se trompe de sexe : {}\".format((sex_prediction != y_train.sexe).sum()))\n",
    "print(\"Dont : {} femmes\".format((y_train[(sex_prediction != y_train.sexe)].sexe == \"femme\").sum()))"
   ]
  },
  {
   "cell_type": "markdown",
   "metadata": {},
   "source": [
    "***"
   ]
  },
  {
   "cell_type": "markdown",
   "metadata": {},
   "source": [
    "# Extraction du contexte autour de la date (utilisant la target )"
   ]
  },
  {
   "cell_type": "code",
   "execution_count": 186,
   "metadata": {},
   "outputs": [],
   "source": [
    "import unidecode"
   ]
  },
  {
   "cell_type": "code",
   "execution_count": 188,
   "metadata": {},
   "outputs": [
    {
     "data": {
      "text/plain": [
       "'fevrier'"
      ]
     },
     "execution_count": 188,
     "metadata": {},
     "output_type": "execute_result"
    }
   ],
   "source": [
    "unidecode.unidecode(\"février\")"
   ]
  },
  {
   "cell_type": "code",
   "execution_count": 217,
   "metadata": {},
   "outputs": [],
   "source": [
    "def date_parser(date_string):\n",
    "    \"\"\" Transforme une date de YYYY-mm-DD \n",
    "        en DD mm (en lettre) YYYY \"\"\"\n",
    "    \n",
    "    year_month_day = date_string.split('-')\n",
    "    \n",
    "    list_Months=['Janvier',\"Février\",\n",
    "                 'Mars','Avril','Mai','Juin','Juillet',\n",
    "                 \"Août\",'Septembre','Octobre','Novembre',\n",
    "                 \"Décembre\"]\n",
    "    list_months=['janvier',\"février\",\n",
    "                 'mars','avril','mai','juin','juillet',\n",
    "                 \"août\",'septembre','octobre','novembre',\n",
    "                 \"décembre\"]\n",
    "    \n",
    "    day = str(int(year_month_day[2])) # sans le 0 qui précède les unités\n",
    "    Month = list_Months[int(year_month_day[1])-1]\n",
    "    month = list_months[int(year_month_day[1])-1]\n",
    "    year = year_month_day[0]\n",
    "    \n",
    "    if day == \"1\":\n",
    "        day +=\"er\"\n",
    "    return day + \" \" + Month + \" \" + year, day + \" \" + month + \" \" + year"
   ]
  },
  {
   "cell_type": "code",
   "execution_count": 218,
   "metadata": {
    "code_folding": [
     0,
     31,
     94
    ]
   },
   "outputs": [],
   "source": [
    "def extract_X_sentences_before_after(text, date, X=2):\n",
    "    \n",
    "    try :\n",
    "        capitalized_date, non_capitalized_date = date_parser(date)\n",
    "    except :\n",
    "        return \"Date NC\"\n",
    "    \n",
    "    L1 = [capitalized_date in sen for sen in text]\n",
    "    L2 = [non_capitalized_date in sen for sen in text]\n",
    "    \n",
    "    if np.array(L1).any() :\n",
    "        index = np.where(L1)[0][0]\n",
    "        CAP=True\n",
    "    elif np.array(L2).any() :\n",
    "        index = np.where(L2)[0][0]\n",
    "        CAP=False\n",
    "    else :\n",
    "        return \"Pas trouvé de Date sous format DD mm (en lettre) YYYY dans le texte\"\n",
    "    \n",
    "    \n",
    "    result = text[index-X : index+X+1]\n",
    "    if CAP:\n",
    "        result = [e.replace(capitalized_date, \"\") for e in result]\n",
    "    else :\n",
    "        result = [e.replace(non_capitalized_date, \"\") for e in result]\n",
    "    return result\n",
    "\n",
    "import itertools\n",
    "import igraph\n",
    "import copy\n",
    "\n",
    "def terms_to_graph(terms, window_size):\n",
    "    '''This function returns a directed, weighted igraph from lists of list of terms (the tokens from the pre-processed text)\n",
    "    e.g., ['quick','brown','fox']\n",
    "    Edges are weighted based on term co-occurence within a sliding window of fixed size 'w'\n",
    "    '''\n",
    "    \n",
    "    from_to = {}\n",
    "\n",
    "    w = min(window_size, len(terms))\n",
    "    # create initial complete graph (first w terms)\n",
    "    terms_temp = terms[0:w]\n",
    "    indexes = list(itertools.combinations(range(w), r=2))\n",
    "\n",
    "    new_edges = []\n",
    "\n",
    "    for my_tuple in indexes:\n",
    "        new_edges.append(tuple([terms_temp[i] for i in my_tuple]))\n",
    "    for new_edge in new_edges:\n",
    "        if new_edge in from_to:\n",
    "            from_to[new_edge] += 1\n",
    "        else:\n",
    "            from_to[new_edge] = 1\n",
    "\n",
    "    # then iterate over the remaining terms\n",
    "    for i in range(w, len(terms)):\n",
    "        # term to consider\n",
    "        considered_term = terms[i]\n",
    "        # all terms within sliding window\n",
    "        terms_temp = terms[(i - w + 1):(i + 1)]\n",
    "\n",
    "        # edges to try\n",
    "        candidate_edges = []\n",
    "        for p in range(w - 1):\n",
    "            candidate_edges.append((terms_temp[p], considered_term))\n",
    "\n",
    "        for try_edge in candidate_edges:\n",
    "\n",
    "            # if not self-edge\n",
    "            if try_edge[1] != try_edge[0]:\n",
    "\n",
    "                # if edge has already been seen, update its weight\n",
    "                if try_edge in from_to:\n",
    "                    from_to[try_edge] += 1\n",
    "\n",
    "                # if edge has never been seen, create it and assign it a unit weight\n",
    "                else:\n",
    "                    from_to[try_edge] = 1\n",
    "\n",
    "    # create empty graph\n",
    "    g = igraph.Graph(directed=True)\n",
    "\n",
    "    # add vertices\n",
    "    g.add_vertices(sorted(set(terms)))\n",
    "\n",
    "    # add edges, direction is preserved since the graph is directed\n",
    "    g.add_edges(list(from_to.keys()))\n",
    "\n",
    "    # set edge and vertice weights\n",
    "    g.es['weight'] = list(from_to.values()) # based on co-occurence within sliding window\n",
    "    g.vs['weight'] = g.strength(weights=list(from_to.values())) # weighted degree\n",
    "\n",
    "    return (g)\n",
    "\n",
    "def core_dec(g,weighted):\n",
    "    '''(un)weighted k-core decomposition'''\n",
    "    # work on clone of g to preserve g \n",
    "    gg = copy.deepcopy(g)\n",
    "    if not weighted:\n",
    "        gg.vs['weight'] = gg.strength() # overwrite the 'weight' vertex attribute with the unweighted degrees\n",
    "    # initialize dictionary that will contain the core numbers\n",
    "    cores_g = dict(zip(gg.vs['name'],[0]*len(gg.vs)))\n",
    "    \n",
    "    while len(gg.vs) > 0:\n",
    "        # find index of lowest degree vertex\n",
    "        min_degree = min(gg.vs['weight'])\n",
    "        index_top = gg.vs['weight'].index(min_degree)\n",
    "        name_top = gg.vs[index_top]['name']\n",
    "        # get names of its neighbors\n",
    "        neighbors = gg.vs[gg.neighbors(index_top)]['name']\n",
    "        # exclude self-edges\n",
    "        neighbors = [elt for elt in neighbors if elt!=name_top]\n",
    "        # set core number of lowest degree vertex as its degree\n",
    "        cores_g[name_top] = min_degree\n",
    "        # delete top vertex and its incident edges\n",
    "        gg.delete_vertices(index_top)\n",
    "        \n",
    "        if neighbors:\n",
    "            if weighted: \n",
    "                new_degrees = gg.strength(weights=gg.es['weight'])\n",
    "            else:\n",
    "                new_degrees = gg.strength()\n",
    "            # iterate over neighbors of top element\n",
    "            for neigh in neighbors:\n",
    "                index_n = gg.vs['name'].index(neigh)\n",
    "                gg.vs[index_n]['weight'] = max(min_degree,new_degrees[index_n])  \n",
    "        \n",
    "    return(cores_g)\n"
   ]
  },
  {
   "cell_type": "code",
   "execution_count": 219,
   "metadata": {},
   "outputs": [
    {
     "data": {
      "text/plain": [
       "', monsieur x... a ete victime accident travail cours duquel a ete gravement blesse.'"
      ]
     },
     "execution_count": 219,
     "metadata": {},
     "output_type": "execute_result"
    }
   ],
   "source": [
    "context_to_analyse = extract_X_sentences_before_after(X_train.text[0], y_train.date_accident[0], X=1)\n",
    "# context_to_analyse = [sen for sen in context_to_analyse if sen]\n",
    "words = process_text(\" \".join(context_to_analyse))\n",
    "words"
   ]
  },
  {
   "cell_type": "code",
   "execution_count": 9,
   "metadata": {},
   "outputs": [],
   "source": [
    "# g = terms_to_graph(words.split(\" \"), 4)\n",
    "# dico = core_dec(g, True)\n",
    "# dico"
   ]
  },
  {
   "cell_type": "markdown",
   "metadata": {
    "scrolled": false
   },
   "source": [
    "# Contexte autour de la date d':"
   ]
  },
  {
   "cell_type": "markdown",
   "metadata": {},
   "source": [
    "## Accident"
   ]
  },
  {
   "cell_type": "code",
   "execution_count": 254,
   "metadata": {},
   "outputs": [],
   "source": [
    "L = []\n",
    "for i in range(X_train.shape[0]) :\n",
    "    context_to_analyse = extract_X_sentences_before_after(X_train.text[i], y_train.date_accident[i], X=4)\n",
    "    if context_to_analyse in [\"Pas trouvé de Date sous format DD mm (en lettre) YYYY dans le texte\", \"Date NC\"] :\n",
    "        L.append(context_to_analyse)\n",
    "    else :\n",
    "        words = process_text(\" \".join(context_to_analyse))\n",
    "        L.append(words)\n",
    "X_train[\"context_around_accident\"] = L"
   ]
  },
  {
   "cell_type": "code",
   "execution_count": 255,
   "metadata": {},
   "outputs": [],
   "source": [
    "L = []\n",
    "for i in range(X_train.shape[0]) :\n",
    "    text = X_train.context_around_accident[i]\n",
    "    if text in [\"Pas trouvé de Date sous format DD mm (en lettre) YYYY dans le texte\", \"Date NC\"] :\n",
    "        L.append(None)\n",
    "    else :\n",
    "        words = \" \".join([tok for tok in text.split() if tok.isalnum()])\n",
    "        L.append(words)\n",
    "X_train[\"context_around_accident_processed\"] = L"
   ]
  },
  {
   "cell_type": "markdown",
   "metadata": {},
   "source": [
    "## Consolidation"
   ]
  },
  {
   "cell_type": "code",
   "execution_count": 256,
   "metadata": {},
   "outputs": [],
   "source": [
    "L = []\n",
    "for i in range(X_train.shape[0]) :\n",
    "    context_to_analyse = extract_X_sentences_before_after(X_train.text[i], y_train.date_consolidation[i], X=4)\n",
    "    if context_to_analyse in [\"Pas trouvé de Date sous format DD mm (en lettre) YYYY dans le texte\", \"Date NC\"] :\n",
    "        L.append(context_to_analyse)\n",
    "    else :\n",
    "        words = process_text(\" \".join(context_to_analyse))\n",
    "        L.append(words)\n",
    "X_train[\"context_around_consolidation\"] = L"
   ]
  },
  {
   "cell_type": "code",
   "execution_count": 257,
   "metadata": {},
   "outputs": [],
   "source": [
    "L = []\n",
    "for i in range(X_train.shape[0]) :\n",
    "    text = X_train.context_around_consolidation[i]\n",
    "    if text in [\"Pas trouvé de Date sous format DD mm (en lettre) YYYY dans le texte\", \"Date NC\"] :\n",
    "        L.append(None)\n",
    "    else :\n",
    "        words = \" \".join([tok for tok in text.split() if tok.isalnum()])\n",
    "        L.append(words)\n",
    "X_train[\"context_around_consolidation_processed\"] = L"
   ]
  },
  {
   "cell_type": "markdown",
   "metadata": {},
   "source": [
    "## Spacy word vectors"
   ]
  },
  {
   "cell_type": "code",
   "execution_count": 74,
   "metadata": {},
   "outputs": [],
   "source": [
    "import fr_core_news_md\n",
    "nlp = fr_core_news_md.load()"
   ]
  },
  {
   "cell_type": "code",
   "execution_count": 258,
   "metadata": {},
   "outputs": [],
   "source": [
    "def extract_X_sentences_around_all_dates(text, X=1):\n",
    "    \"\"\"The text in structured format ( like in the column text of X_train)\n",
    "    - Looks for all the dates in the text\n",
    "    - for each date, extract X sentences  before and after this date (sentence meaning rows of the original doc)\n",
    "    - if a row has multiple dates, separate each date in a row (the dates will have the same context) ==> PROBLEM\n",
    "    - Return a list of tuples (context in lower + no stopwords + clean from punct , date)\n",
    "    - this context can be passed to Spacy avg vectorizer to get the avg Word embedding of the sentence\n",
    "    \"\"\"\n",
    "    l = [re.findall(\"\\d{1,2} [a-zéû]{3,9} \\d{4}\", STRING.lower()) for STRING in text]\n",
    "    indexes = [i for i in range(len(l)) if len(l[i])!=0]\n",
    "    ll = [(\" \".join(text[i-X+1 : i+X]).lower(), l[i]) for i in indexes]\n",
    "    \n",
    "    lll = []\n",
    "    for i in range(len(ll)) :\n",
    "        if len(ll[i][1]) == 1 :\n",
    "            date = unidecode.unidecode(ll[i][1][0])\n",
    "            context_date_removed = unidecode.unidecode(ll[i][0]).replace(date, '')\n",
    "            context_date_removed_processed = \" \".join([tok for tok in context_date_removed.split() if (tok.isalnum()) & (tok not in stop_words) ])\n",
    "            lll.append((context_date_removed_processed, date))\n",
    "        else :\n",
    "            for j in range(len(ll[i][1])) :\n",
    "                date = unidecode.unidecode(ll[i][1][j])\n",
    "                context_date_removed = unidecode.unidecode(ll[i][0]).replace(date, '')\n",
    "                context_date_removed_processed = \" \".join([tok for tok in context_date_removed.split() if (tok.isalnum()) & (tok not in stop_words) ])\n",
    "                lll.append((context_date_removed_processed, date))\n",
    "    return lll"
   ]
  },
  {
   "cell_type": "code",
   "execution_count": 259,
   "metadata": {},
   "outputs": [],
   "source": [
    "def letter_date_to_submission_date(string) :\n",
    "    dico_months = {\"janvier\" : \"01\",\n",
    "               'fevrier' : \"02\",\n",
    "               \"mars\" : \"03\",\n",
    "               \"avril\" : \"04\",\n",
    "               \"mai\" : \"05\",\n",
    "               \"juin\" : \"06\",\n",
    "               \"juillet\" : \"07\",\n",
    "               \"aout\" : \"08\",\n",
    "                \"septembre\" : \"09\",\n",
    "               \"octobre\": '10',\n",
    "               \"novembre\" : \"11\",\n",
    "               \"decembre\":'12'}\n",
    "    strings = string.split()\n",
    "    \n",
    "    if len(strings[0]) == 1 :\n",
    "        day = \"0\"+strings[0]\n",
    "    else :\n",
    "        day = strings[0]\n",
    "    return strings[2]+\"-\"+dico_months[strings[1]]+\"-\"+day"
   ]
  },
  {
   "cell_type": "markdown",
   "metadata": {},
   "source": [
    "To asses the performance of our model that predicts if the context around a date is talking about `date d'accident` or `date de consolidation` :\n",
    "\n",
    "- Take split X_train using train_test_split into X_tr and X_te\n",
    "- Prepare data for model fitting :\n",
    "    - For date d'accident : \n",
    "        - remove the dates from the accident contexts of X_tr\n",
    "        - remove the punctuation from the accident contexts of X_tr\n",
    "        - remove the stopwords from the accident contexts of X_tr  \n",
    "        - use Spacy avg vectorizer \n",
    "    - Same thing for date de conso\n",
    "    - concatenate the two \n",
    "    - fit two models : one to predict accident contexts and the other the consolidation contexts\n",
    "- On X_te :\n",
    "    - On each text apply the function extract `X_sentences_around_all_dates`\n",
    "    - for each sentence apply the Spacy vectorizer and predict using the models\n",
    "    - predict the date of which the context gave the higher probability score."
   ]
  },
  {
   "cell_type": "code",
   "execution_count": 260,
   "metadata": {},
   "outputs": [
    {
     "data": {
      "application/javascript": [
       "\n",
       "        if (window._pyforest_update_imports_cell) { window._pyforest_update_imports_cell('import statistics\\nfrom sklearn.model_selection import train_test_split'); }\n",
       "    "
      ],
      "text/plain": [
       "<IPython.core.display.Javascript object>"
      ]
     },
     "metadata": {},
     "output_type": "display_data"
    }
   ],
   "source": [
    "X_tr, X_te = train_test_split(X_train, random_state=50)"
   ]
  },
  {
   "cell_type": "code",
   "execution_count": 261,
   "metadata": {},
   "outputs": [
    {
     "name": "stderr",
     "output_type": "stream",
     "text": [
      "C:\\Users\\Houcine's laptop\\AppData\\Roaming\\Python\\Python37\\site-packages\\sklearn\\linear_model\\logistic.py:432: FutureWarning: Default solver will be changed to 'lbfgs' in 0.22. Specify a solver to silence this warning.\n",
      "  FutureWarning)\n",
      "C:\\Users\\Houcine's laptop\\AppData\\Roaming\\Python\\Python37\\site-packages\\sklearn\\linear_model\\logistic.py:432: FutureWarning: Default solver will be changed to 'lbfgs' in 0.22. Specify a solver to silence this warning.\n",
      "  FutureWarning)\n"
     ]
    }
   ],
   "source": [
    "train_accident_context_avg_WV = np.array([\n",
    "    nlp(sen).vector for sen in X_tr.context_around_accident_processed if sen is not None ])\n",
    "\n",
    "train_consolidation_context_avg_WV = np.array([\n",
    "    nlp(sen).vector for sen in X_tr.context_around_consolidation_processed if sen is not None ])\n",
    "\n",
    "from sklearn.linear_model import LogisticRegression\n",
    "\n",
    "\n",
    "is_accident = [1 for _ in range(train_accident_context_avg_WV.shape[0])]\n",
    "is_not_accident = [0 for _ in range(train_consolidation_context_avg_WV.shape[0])]\n",
    "data = np.concatenate((train_accident_context_avg_WV, train_consolidation_context_avg_WV))\n",
    "target = np.concatenate((is_accident, is_not_accident))\n",
    "clf_accident = LogisticRegression().fit(data, target)\n",
    "\n",
    "###############################################\n",
    "\n",
    "is_conso = [1 for _ in range(train_consolidation_context_avg_WV.shape[0])]\n",
    "is_not_conso = [0 for _ in range(train_accident_context_avg_WV.shape[0])]\n",
    "data = np.concatenate((train_consolidation_context_avg_WV, train_accident_context_avg_WV))\n",
    "target = np.concatenate((is_conso, is_not_conso))\n",
    "clf_conso = LogisticRegression().fit(data, target)\n"
   ]
  },
  {
   "cell_type": "code",
   "execution_count": 276,
   "metadata": {},
   "outputs": [],
   "source": [
    "y_true_accident = y_train.loc[X_te.index].date_accident.values\n",
    "y_true_consolidation = y_train.loc[X_te.index].date_consolidation.values\n",
    "\n",
    "y_pred_accident = []\n",
    "y_pred_conso = []\n",
    "for i in range(X_te.text.shape[0]) :\n",
    "    \n",
    "    sentences_to_test = extract_X_sentences_around_all_dates(X_te.text.iloc[i])\n",
    "    probas_accident = []\n",
    "    probas_conso = []\n",
    "\n",
    "    for tup in sentences_to_test :\n",
    "\n",
    "        processed_sentence = tup[0]\n",
    "        WV_processed_sentence = nlp(processed_sentence).vector\n",
    "\n",
    "        probas_accident.append(clf_accident.predict_proba([WV_processed_sentence]))\n",
    "        probas_conso.append(clf_conso.predict_proba([WV_processed_sentence]))\n",
    "    \n",
    "    probas_accident = np.squeeze(probas_accident)[:,1]\n",
    "    probas_conso = np.squeeze(probas_conso)[:,1]\n",
    "    \n",
    "    threshold_accident = 0.7\n",
    "    threshold_conso = 0.7\n",
    "    \n",
    "    if probas_accident.max() >= threshold_accident :\n",
    "        y_pred_accident.append(letter_date_to_submission_date(sentences_to_test[np.argmax(probas_accident)][1]))\n",
    "    else :\n",
    "        y_pred_accident.append(\"n.c.\")\n",
    "        \n",
    "    if probas_accident.max() >= threshold_conso :\n",
    "        y_pred_conso.append(letter_date_to_submission_date(sentences_to_test[np.argmax(probas_conso)][1]))\n",
    "    else :\n",
    "        y_pred_conso.append(\"n.c.\")\n",
    "    "
   ]
  },
  {
   "cell_type": "code",
   "execution_count": 277,
   "metadata": {},
   "outputs": [
    {
     "data": {
      "text/plain": [
       "0.16062176165803108"
      ]
     },
     "execution_count": 277,
     "metadata": {},
     "output_type": "execute_result"
    }
   ],
   "source": [
    "(y_true_accident == y_pred_accident).mean()"
   ]
  },
  {
   "cell_type": "code",
   "execution_count": 278,
   "metadata": {},
   "outputs": [
    {
     "data": {
      "text/plain": [
       "0.27461139896373055"
      ]
     },
     "execution_count": 278,
     "metadata": {},
     "output_type": "execute_result"
    }
   ],
   "source": [
    "(y_true_consolidation == y_pred_conso).mean()"
   ]
  },
  {
   "cell_type": "code",
   "execution_count": 282,
   "metadata": {},
   "outputs": [
    {
     "data": {
      "text/plain": [
       "'2012-09-13'"
      ]
     },
     "execution_count": 282,
     "metadata": {},
     "output_type": "execute_result"
    }
   ],
   "source": [
    "i = 18\n",
    "sentences_to_test = extract_X_sentences_around_all_dates(X_te.text.iloc[i])\n",
    "probas_accident = []\n",
    "probas_conso = []\n",
    "\n",
    "for tup in sentences_to_test :\n",
    "\n",
    "    processed_sentence = tup[0]\n",
    "    WV_processed_sentence = nlp(processed_sentence).vector\n",
    "\n",
    "    probas_accident.append(clf_accident.predict_proba([WV_processed_sentence]))\n",
    "    probas_conso.append(clf_conso.predict_proba([WV_processed_sentence]))\n",
    "\n",
    "probas_accident = np.squeeze(probas_accident)[:,1]\n",
    "probas_conso = np.squeeze(probas_conso)[:,1]\n",
    "letter_date_to_submission_date(sentences_to_test[np.argmax(probas_accident)][1])"
   ]
  },
  {
   "cell_type": "code",
   "execution_count": 283,
   "metadata": {},
   "outputs": [
    {
     "data": {
      "text/plain": [
       "(('conclusions datees fernand sollicite confirmation jugement sauf demande a cour',\n",
       "  '13 septembre 2012'),\n",
       " 0.9921591539182403,\n",
       " '2005-03-05')"
      ]
     },
     "execution_count": 283,
     "metadata": {},
     "output_type": "execute_result"
    }
   ],
   "source": [
    "sentences_to_test[np.argmax(probas_accident)], probas_accident.max(),y_true_accident[i]"
   ]
  },
  {
   "cell_type": "code",
   "execution_count": 289,
   "metadata": {},
   "outputs": [
    {
     "data": {
      "text/plain": [
       "(('date consolidation', '31 janvier 2009'), 0.9999999999990281, '2009-01-31')"
      ]
     },
     "execution_count": 289,
     "metadata": {},
     "output_type": "execute_result"
    }
   ],
   "source": [
    "sentences_to_test[np.argmax(probas_conso)], probas_conso.max(), y_true_consolidation[i]"
   ]
  },
  {
   "cell_type": "code",
   "execution_count": 286,
   "metadata": {},
   "outputs": [
    {
     "data": {
      "text/plain": [
       "('vehicule marque hyundai immatricule a ete percute vehicule marque renault immatricule conduit louis etat alcoolique sans permis loue concubine mme ginette aupres societe ge financement pacifique plus couvert automobile obligatoire depuis 31 aout',\n",
       " '05 mars 2005')"
      ]
     },
     "execution_count": 286,
     "metadata": {},
     "output_type": "execute_result"
    }
   ],
   "source": [
    "sentences_to_test[15]"
   ]
  },
  {
   "cell_type": "code",
   "execution_count": 287,
   "metadata": {},
   "outputs": [
    {
     "data": {
      "text/plain": [
       "0.9622290715074315"
      ]
     },
     "execution_count": 287,
     "metadata": {},
     "output_type": "execute_result"
    }
   ],
   "source": [
    "probas_accident[15]"
   ]
  },
  {
   "cell_type": "code",
   "execution_count": null,
   "metadata": {},
   "outputs": [],
   "source": []
  },
  {
   "cell_type": "code",
   "execution_count": null,
   "metadata": {},
   "outputs": [],
   "source": []
  },
  {
   "cell_type": "code",
   "execution_count": null,
   "metadata": {},
   "outputs": [],
   "source": []
  },
  {
   "cell_type": "code",
   "execution_count": null,
   "metadata": {},
   "outputs": [],
   "source": []
  },
  {
   "cell_type": "code",
   "execution_count": 75,
   "metadata": {},
   "outputs": [],
   "source": [
    "accident_context_avg_WV = np.array([nlp(sen).vector for sen in X_train.context_around_accident_processed if sen is not None ])\n",
    "consolidation_context_avg_WV = np.array([nlp(sen).vector for sen in X_train.context_around_consolidation_processed if sen is not None ])"
   ]
  },
  {
   "cell_type": "code",
   "execution_count": 76,
   "metadata": {},
   "outputs": [],
   "source": [
    "is_accident = [1 for _ in range(accident_context_avg_WV.shape[0])]\n",
    "is_not_accident = [0 for _ in range(consolidation_context_avg_WV.shape[0])]\n",
    "data = np.concatenate((accident_context_avg_WV, consolidation_context_avg_WV))\n",
    "target = np.concatenate((is_accident, is_not_accident))"
   ]
  },
  {
   "cell_type": "code",
   "execution_count": 206,
   "metadata": {},
   "outputs": [
    {
     "data": {
      "text/plain": [
       "((1143, 300), (1143,))"
      ]
     },
     "execution_count": 206,
     "metadata": {},
     "output_type": "execute_result"
    }
   ],
   "source": [
    "data.shape, target.shape"
   ]
  },
  {
   "cell_type": "code",
   "execution_count": 81,
   "metadata": {},
   "outputs": [
    {
     "data": {
      "application/javascript": [
       "\n",
       "        if (window._pyforest_update_imports_cell) { window._pyforest_update_imports_cell('import statistics\\nfrom sklearn.model_selection import train_test_split'); }\n",
       "    "
      ],
      "text/plain": [
       "<IPython.core.display.Javascript object>"
      ]
     },
     "metadata": {},
     "output_type": "display_data"
    },
    {
     "name": "stderr",
     "output_type": "stream",
     "text": [
      "C:\\Users\\Houcine's laptop\\AppData\\Roaming\\Python\\Python37\\site-packages\\sklearn\\linear_model\\logistic.py:432: FutureWarning: Default solver will be changed to 'lbfgs' in 0.22. Specify a solver to silence this warning.\n",
      "  FutureWarning)\n"
     ]
    },
    {
     "name": "stdout",
     "output_type": "stream",
     "text": [
      "Score on the test set (on WV directly) :  0.8951048951048951\n"
     ]
    },
    {
     "data": {
      "image/png": "[encoded data removed]",
      "text/plain": [
       "<Figure size 432x288 with 1 Axes>"
      ]
     },
     "metadata": {
      "needs_background": "light"
     },
     "output_type": "display_data"
    }
   ],
   "source": [
    "from sklearn.linear_model import LogisticRegression\n",
    "import matplotlib.pyplot as plt\n",
    "\n",
    "x_tr, x_te, y_tr, y_te = train_test_split(data, target, stratify= target)\n",
    "clf_accident = LogisticRegression().fit(x_tr, y_tr)\n",
    "print(\"Score on the test set (on WV directly) : \", clf_accident.score(x_te, y_te))\n",
    "plt.scatter(range(x_te.shape[0]), clf_accident.predict_proba(x_te)[:,1]);"
   ]
  },
  {
   "cell_type": "code",
   "execution_count": 82,
   "metadata": {},
   "outputs": [
    {
     "data": {
      "application/javascript": [
       "\n",
       "        if (window._pyforest_update_imports_cell) { window._pyforest_update_imports_cell('import statistics\\nfrom sklearn.model_selection import train_test_split'); }\n",
       "    "
      ],
      "text/plain": [
       "<IPython.core.display.Javascript object>"
      ]
     },
     "metadata": {},
     "output_type": "display_data"
    },
    {
     "name": "stderr",
     "output_type": "stream",
     "text": [
      "C:\\Users\\Houcine's laptop\\AppData\\Roaming\\Python\\Python37\\site-packages\\sklearn\\linear_model\\logistic.py:432: FutureWarning: Default solver will be changed to 'lbfgs' in 0.22. Specify a solver to silence this warning.\n",
      "  FutureWarning)\n"
     ]
    },
    {
     "name": "stdout",
     "output_type": "stream",
     "text": [
      "Score on the test set (on WV directly) :  0.8916083916083916\n"
     ]
    },
    {
     "data": {
      "image/png": "[encoded data removed]",
      "text/plain": [
       "<Figure size 432x288 with 1 Axes>"
      ]
     },
     "metadata": {
      "needs_background": "light"
     },
     "output_type": "display_data"
    }
   ],
   "source": [
    "is_conso = [1 for _ in range(consolidation_context_avg_WV.shape[0])]\n",
    "is_not_conso = [0 for _ in range(accident_context_avg_WV.shape[0])]\n",
    "data = np.concatenate((consolidation_context_avg_WV, accident_context_avg_WV))\n",
    "target = np.concatenate((is_conso, is_not_conso))\n",
    "\n",
    "x_tr, x_te, y_tr, y_te = train_test_split(data, target, stratify= target)\n",
    "clf_conso = LogisticRegression().fit(x_tr, y_tr)\n",
    "print(\"Score on the test set (on WV directly) : \", clf_conso.score(x_te, y_te))\n",
    "plt.scatter(range(x_te.shape[0]), clf_accident.predict_proba(x_te)[:,1]);"
   ]
  },
  {
   "cell_type": "code",
   "execution_count": 68,
   "metadata": {
    "scrolled": false
   },
   "outputs": [],
   "source": []
  },
  {
   "cell_type": "code",
   "execution_count": 244,
   "metadata": {},
   "outputs": [
    {
     "data": {
      "text/plain": [
       "array([[0.95305513, 0.04694487]])"
      ]
     },
     "execution_count": 244,
     "metadata": {},
     "output_type": "execute_result"
    }
   ],
   "source": [
    "clf_accident.predict_proba([nlp(text_no_date_processed).vector])"
   ]
  },
  {
   "cell_type": "code",
   "execution_count": 245,
   "metadata": {},
   "outputs": [
    {
     "data": {
      "text/plain": [
       "array([[0.99596141, 0.00403859]])"
      ]
     },
     "execution_count": 245,
     "metadata": {},
     "output_type": "execute_result"
    }
   ],
   "source": [
    "clf_conso.predict_proba([nlp(text_no_date_processed).vector])"
   ]
  },
  {
   "cell_type": "code",
   "execution_count": 83,
   "metadata": {},
   "outputs": [
    {
     "data": {
      "text/plain": [
       "ID\n",
       "0      monsieur a victime accident travail cours duqu...\n",
       "1      faits procédure monsieur michaël né 1er octobr...\n",
       "2      madame victime accident suite violent coup fre...\n",
       "3      alors circulait volant marie france a heurtée ...\n",
       "4      a subi intervention cataracte oeil gauche prat...\n",
       "                             ...                        \n",
       "765    voir fixer comme suit différents préjudices su...\n",
       "766    considérant experts fixé période itt fin août ...\n",
       "767    rappel faits procedure alain a victime collisi...\n",
       "768    pascal né 19 avril handicapé 80 suite liposarc...\n",
       "769    dit service société saeq international lors su...\n",
       "Name: context_around_accident_processed, Length: 770, dtype: object"
      ]
     },
     "execution_count": 83,
     "metadata": {},
     "output_type": "execute_result"
    }
   ],
   "source": [
    "X_train.context_around_accident_processed"
   ]
  },
  {
   "cell_type": "code",
   "execution_count": null,
   "metadata": {},
   "outputs": [],
   "source": []
  }
 ],
 "metadata": {
  "kernelspec": {
   "display_name": "Python 3",
   "language": "python",
   "name": "python3"
  },
  "language_info": {
   "codemirror_mode": {
    "name": "ipython",
    "version": 3
   },
   "file_extension": ".py",
   "mimetype": "text/x-python",
   "name": "python",
   "nbconvert_exporter": "python",
   "pygments_lexer": "ipython3",
   "version": "3.7.3"
  },
  "toc": {
   "base_numbering": 1,
   "nav_menu": {},
   "number_sections": true,
   "sideBar": true,
   "skip_h1_title": false,
   "title_cell": "Table of Contents",
   "title_sidebar": "Contents",
   "toc_cell": false,
   "toc_position": {},
   "toc_section_display": true,
   "toc_window_display": true
  }
 },
 "nbformat": 4,
 "nbformat_minor": 2
}

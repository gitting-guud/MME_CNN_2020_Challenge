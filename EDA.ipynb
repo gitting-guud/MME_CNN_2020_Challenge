{
 "cells": [
  {
   "cell_type": "code",
   "execution_count": 1,
   "metadata": {},
   "outputs": [],
   "source": [
    "from utils import *\n",
    "\n",
    "%load_ext autoreload\n",
    "%autoreload 2"
   ]
  },
  {
   "cell_type": "code",
   "execution_count": 2,
   "metadata": {
    "scrolled": true
   },
   "outputs": [
    {
     "name": "stdout",
     "output_type": "stream",
     "text": [
      "Reading training data ...\n",
      "Reading training data : Done\n",
      "Reading testing data ...\n",
      "Reading testing data : Done\n"
     ]
    }
   ],
   "source": [
    "X_train, y_train, X_test = read_train_test(sentence_per_row_mode=True)"
   ]
  },
  {
   "cell_type": "code",
   "execution_count": 343,
   "metadata": {},
   "outputs": [],
   "source": [
    "y_train.date_consolidation = y_train.date_consolidation.str.replace(\"n.a.\", \"n.c.\")"
   ]
  },
  {
   "cell_type": "code",
   "execution_count": 3,
   "metadata": {},
   "outputs": [],
   "source": [
    "# X_train[\"text_joined\"] = [\" \".join(X_train.text[i]) for i in range(X_train.shape[0])]"
   ]
  },
  {
   "cell_type": "code",
   "execution_count": 174,
   "metadata": {
    "code_folding": []
   },
   "outputs": [],
   "source": [
    "import unidecode\n",
    "\n",
    "from nltk.corpus import stopwords\n",
    "from nltk.stem.snowball import FrenchStemmer\n",
    "\n",
    "stop_words = set(stopwords.words('french'))\n",
    "stemmer = FrenchStemmer()\n",
    "\n",
    "def process_text(text, stem=False):\n",
    "    \"\"\" lowercase, removes stopwords, accents and lemmatizes the tokens if stem=True\"\"\"\n",
    "    text_clean = []\n",
    "    for sen in text : \n",
    "        sen = unidecode.unidecode(sen.replace(\"’\", \" \").replace(\",\",\" \").replace(\".\",\" \").replace(\";\",\" \").lower())\n",
    "        sen = sen.replace(\"/ \",\"/\") #some dates are in DD/MM/yyyy format\n",
    "        tokens = sen.split()\n",
    "        if stem :\n",
    "            tokens_no_stpwrd = [stemmer.stem(tok) for tok in tokens if tok not in stop_words]\n",
    "        else :\n",
    "#             tokens_no_stpwrd = [tok for tok in tokens if (tok not in stop_words) & (tok.isalnum())]\n",
    "            tokens_no_stpwrd = [tok for tok in tokens if (tok not in stop_words)]\n",
    "\n",
    "        no_letters = re.sub(' [a-z] ', \" \", \" \".join(tokens_no_stpwrd))\n",
    "        \n",
    "        text_clean.append(no_letters)\n",
    "\n",
    "    return text_clean\n",
    "\n",
    "X_train[\"text_processed\"] = X_train.text.apply(process_text, args=(False,))"
   ]
  },
  {
   "cell_type": "code",
   "execution_count": 46,
   "metadata": {},
   "outputs": [
    {
     "data": {
      "text/html": [
       "<div>\n",
       "<style scoped>\n",
       "    .dataframe tbody tr th:only-of-type {\n",
       "        vertical-align: middle;\n",
       "    }\n",
       "\n",
       "    .dataframe tbody tr th {\n",
       "        vertical-align: top;\n",
       "    }\n",
       "\n",
       "    .dataframe thead th {\n",
       "        text-align: right;\n",
       "    }\n",
       "</style>\n",
       "<table border=\"1\" class=\"dataframe\">\n",
       "  <thead>\n",
       "    <tr style=\"text-align: right;\">\n",
       "      <th></th>\n",
       "      <th>filename</th>\n",
       "      <th>text</th>\n",
       "      <th>text_processed</th>\n",
       "    </tr>\n",
       "    <tr>\n",
       "      <th>ID</th>\n",
       "      <th></th>\n",
       "      <th></th>\n",
       "      <th></th>\n",
       "    </tr>\n",
       "  </thead>\n",
       "  <tbody>\n",
       "    <tr>\n",
       "      <th>0</th>\n",
       "      <td>Agen_100515.txt</td>\n",
       "      <td>[Le : 12/11/2019, , , Cour d’appel d’Agen , , ...</td>\n",
       "      <td>[, , , cour appel agen, , chambre sociale, , a...</td>\n",
       "    </tr>\n",
       "    <tr>\n",
       "      <th>1</th>\n",
       "      <td>Agen_1100752.txt</td>\n",
       "      <td>[Le : 12/11/2019, , , Cour d’appel d’Agen , , ...</td>\n",
       "      <td>[, , , cour appel agen, , chambre civile, , au...</td>\n",
       "    </tr>\n",
       "    <tr>\n",
       "      <th>2</th>\n",
       "      <td>Agen_1613.txt</td>\n",
       "      <td>[Le : 12/11/2019, , , Cour d’appel d’Agen , , ...</td>\n",
       "      <td>[, , , cour appel agen, , audience publique 26...</td>\n",
       "    </tr>\n",
       "    <tr>\n",
       "      <th>3</th>\n",
       "      <td>Agen_2118.txt</td>\n",
       "      <td>[Le : 12/11/2019, , , Cour d’appel d’Agen , , ...</td>\n",
       "      <td>[, , , cour appel agen, , audience publique 20...</td>\n",
       "    </tr>\n",
       "    <tr>\n",
       "      <th>4</th>\n",
       "      <td>Agen_21229.txt</td>\n",
       "      <td>[Le : 12/11/2019, , , Cour d’appel d’Agen , , ...</td>\n",
       "      <td>[, , , cour appel agen, , audience publique 22...</td>\n",
       "    </tr>\n",
       "  </tbody>\n",
       "</table>\n",
       "</div>"
      ],
      "text/plain": [
       "            filename                                               text  \\\n",
       "ID                                                                        \n",
       "0    Agen_100515.txt  [Le : 12/11/2019, , , Cour d’appel d’Agen , , ...   \n",
       "1   Agen_1100752.txt  [Le : 12/11/2019, , , Cour d’appel d’Agen , , ...   \n",
       "2      Agen_1613.txt  [Le : 12/11/2019, , , Cour d’appel d’Agen , , ...   \n",
       "3      Agen_2118.txt  [Le : 12/11/2019, , , Cour d’appel d’Agen , , ...   \n",
       "4     Agen_21229.txt  [Le : 12/11/2019, , , Cour d’appel d’Agen , , ...   \n",
       "\n",
       "                                       text_processed  \n",
       "ID                                                     \n",
       "0   [, , , cour appel agen, , chambre sociale, , a...  \n",
       "1   [, , , cour appel agen, , chambre civile, , au...  \n",
       "2   [, , , cour appel agen, , audience publique 26...  \n",
       "3   [, , , cour appel agen, , audience publique 20...  \n",
       "4   [, , , cour appel agen, , audience publique 22...  "
      ]
     },
     "execution_count": 46,
     "metadata": {},
     "output_type": "execute_result"
    }
   ],
   "source": [
    "X_train.head()"
   ]
  },
  {
   "cell_type": "code",
   "execution_count": 4,
   "metadata": {},
   "outputs": [],
   "source": [
    "# y_train.loc[X_train[X_train.filename == \"Bordeaux_605561.txt\"].index]"
   ]
  },
  {
   "cell_type": "markdown",
   "metadata": {},
   "source": [
    "***"
   ]
  },
  {
   "cell_type": "markdown",
   "metadata": {},
   "source": [
    "# Extraction du contexte autour de la date (utilisant la target )"
   ]
  },
  {
   "cell_type": "code",
   "execution_count": 109,
   "metadata": {
    "code_folding": []
   },
   "outputs": [],
   "source": [
    "def date_parser(date_string):\n",
    "    \"\"\" Transforme une date de YYYY-mm-DD \n",
    "        en DD mm (en lettre) YYYY \n",
    "        pour la rechercher dans le texte\n",
    "    \"\"\"\n",
    "    \n",
    "    year_month_day = date_string.split('-')\n",
    "\n",
    "    list_months=['janvier',\"fevrier\",\n",
    "                 'mars','avril','mai','juin','juillet',\n",
    "                 \"aout\",'septembre','octobre','novembre',\n",
    "                 \"decembre\"]\n",
    "    \n",
    "    day = str(int(year_month_day[2])) # sans le 0 qui précède les unités\n",
    "    month = list_months[int(year_month_day[1])-1]\n",
    "    year = year_month_day[0]\n",
    "    \n",
    "    if day == \"1\":\n",
    "        day +=\"er\"\n",
    "    return day + \" \" + month + \" \" + year"
   ]
  },
  {
   "cell_type": "code",
   "execution_count": 48,
   "metadata": {
    "code_folding": [
     28,
     91,
     95
    ]
   },
   "outputs": [],
   "source": [
    "def extract_X_sentences_before_after(text, date, X=2):\n",
    "    \"\"\" Va chercher X pharases avant et apres la date passée en param dans le texte\n",
    "    peut matcher avec plusieurs dates : renvoit toutes ces phrases\"\"\"\n",
    "    try :\n",
    "        non_capitalized_date = date_parser(date)\n",
    "    except :\n",
    "        return \"Date NC\"\n",
    "    \n",
    "    L = np.array([non_capitalized_date in sen for sen in text]) + np.array([non_capitalized_date[:-5] in sen for sen in text])\n",
    "    \n",
    "    indexes = []\n",
    "    \n",
    "    if np.array(L).any() :\n",
    "        indexes = np.where(L)[0]\n",
    "    else :\n",
    "        return \"Pas trouvé de Date sous format DD mm (en lettre) YYYY dans le texte\"\n",
    "    \n",
    "    result = []\n",
    "    for ind in indexes :\n",
    "        result.append(\" \".join(text[ind-X : ind+X+1]))\n",
    "    \n",
    "    result = [e.replace(non_capitalized_date, \"\").replace(non_capitalized_date[:-5], '') for e in result]\n",
    "    return result\n",
    "\n",
    "import itertools\n",
    "import igraph\n",
    "import copy\n",
    "\n",
    "def terms_to_graph(terms, window_size):\n",
    "    '''This function returns a directed, weighted igraph from lists of list of terms (the tokens from the pre-processed text)\n",
    "    e.g., ['quick','brown','fox']\n",
    "    Edges are weighted based on term co-occurence within a sliding window of fixed size 'w'\n",
    "    '''\n",
    "    \n",
    "    from_to = {}\n",
    "\n",
    "    w = min(window_size, len(terms))\n",
    "    # create initial complete graph (first w terms)\n",
    "    terms_temp = terms[0:w]\n",
    "    indexes = list(itertools.combinations(range(w), r=2))\n",
    "\n",
    "    new_edges = []\n",
    "\n",
    "    for my_tuple in indexes:\n",
    "        new_edges.append(tuple([terms_temp[i] for i in my_tuple]))\n",
    "    for new_edge in new_edges:\n",
    "        if new_edge in from_to:\n",
    "            from_to[new_edge] += 1\n",
    "        else:\n",
    "            from_to[new_edge] = 1\n",
    "\n",
    "    # then iterate over the remaining terms\n",
    "    for i in range(w, len(terms)):\n",
    "        # term to consider\n",
    "        considered_term = terms[i]\n",
    "        # all terms within sliding window\n",
    "        terms_temp = terms[(i - w + 1):(i + 1)]\n",
    "\n",
    "        # edges to try\n",
    "        candidate_edges = []\n",
    "        for p in range(w - 1):\n",
    "            candidate_edges.append((terms_temp[p], considered_term))\n",
    "\n",
    "        for try_edge in candidate_edges:\n",
    "\n",
    "            # if not self-edge\n",
    "            if try_edge[1] != try_edge[0]:\n",
    "\n",
    "                # if edge has already been seen, update its weight\n",
    "                if try_edge in from_to:\n",
    "                    from_to[try_edge] += 1\n",
    "\n",
    "                # if edge has never been seen, create it and assign it a unit weight\n",
    "                else:\n",
    "                    from_to[try_edge] = 1\n",
    "\n",
    "    # create empty graph\n",
    "    g = igraph.Graph(directed=True)\n",
    "\n",
    "    # add vertices\n",
    "    g.add_vertices(sorted(set(terms)))\n",
    "\n",
    "    # add edges, direction is preserved since the graph is directed\n",
    "    g.add_edges(list(from_to.keys()))\n",
    "\n",
    "    # set edge and vertice weights\n",
    "    g.es['weight'] = list(from_to.values()) # based on co-occurence within sliding window\n",
    "    g.vs['weight'] = g.strength(weights=list(from_to.values())) # weighted degree\n",
    "\n",
    "    return (g)\n",
    "\n",
    "def core_dec(g,weighted):\n",
    "    '''(un)weighted k-core decomposition'''\n",
    "    # work on clone of g to preserve g \n",
    "    gg = copy.deepcopy(g)\n",
    "    if not weighted:\n",
    "        gg.vs['weight'] = gg.strength() # overwrite the 'weight' vertex attribute with the unweighted degrees\n",
    "    # initialize dictionary that will contain the core numbers\n",
    "    cores_g = dict(zip(gg.vs['name'],[0]*len(gg.vs)))\n",
    "    \n",
    "    while len(gg.vs) > 0:\n",
    "        # find index of lowest degree vertex\n",
    "        min_degree = min(gg.vs['weight'])\n",
    "        index_top = gg.vs['weight'].index(min_degree)\n",
    "        name_top = gg.vs[index_top]['name']\n",
    "        # get names of its neighbors\n",
    "        neighbors = gg.vs[gg.neighbors(index_top)]['name']\n",
    "        # exclude self-edges\n",
    "        neighbors = [elt for elt in neighbors if elt!=name_top]\n",
    "        # set core number of lowest degree vertex as its degree\n",
    "        cores_g[name_top] = min_degree\n",
    "        # delete top vertex and its incident edges\n",
    "        gg.delete_vertices(index_top)\n",
    "        \n",
    "        if neighbors:\n",
    "            if weighted: \n",
    "                new_degrees = gg.strength(weights=gg.es['weight'])\n",
    "            else:\n",
    "                new_degrees = gg.strength()\n",
    "            # iterate over neighbors of top element\n",
    "            for neigh in neighbors:\n",
    "                index_n = gg.vs['name'].index(neigh)\n",
    "                gg.vs[index_n]['weight'] = max(min_degree,new_degrees[index_n])  \n",
    "        \n",
    "    return(cores_g)\n"
   ]
  },
  {
   "cell_type": "code",
   "execution_count": 49,
   "metadata": {},
   "outputs": [
    {
     "data": {
      "text/plain": [
       "['acte axa france iard nouvelle denomination sociale place compagnie assurances jugement defere reconnu droit philippe indemnisation integrale prejudice suite accident  surplus jugement defere statuant nouveau',\n",
       " 'incidence professionnelle temporaire attendu evaluer incidence professionnelle temporaire periode  10 juin 1999 arret mixte precite demande expert judiciaire calculer montant prejudice nature economique effectivement subi philippe compte tenu revenus professionnels anterieurs a attendu expert precise rapport revenu professionnel philippe anterieurement accident correspond benefice net fiscal annuel realise cadre exploitation fonds commerce salon the situe menton acquis 16 mai',\n",
       " 'attendu toutefois expert indique 000 subie vente fonds commerce realisee 29 octobre 1999 consequence chute constante chiffre affaires patisserie depuis accident  cette baisse representant chiffre affaire exercice 1994 exercice complet avant rapport dernier exercice clos avant baisse chiffre affaires 909 EUR 35 vente philippe apprenant 10 juin 1999 peut plus exercer metier patissier vendant fonds commerce 29 octobre 1999 intermediaire cabinet specialise dont ignore veritables demarches effectuees mise dit fonds commerce marche 714 EUR 31 alors fonds commerce existe depuis 1848 plus repute ville situe zone']"
      ]
     },
     "execution_count": 49,
     "metadata": {},
     "output_type": "execute_result"
    }
   ],
   "source": [
    "context_to_analyse = extract_X_sentences_before_after(X_train.text_processed[20], y_train.date_accident[20], X=1)\n",
    "context_to_analyse"
   ]
  },
  {
   "cell_type": "code",
   "execution_count": 10,
   "metadata": {},
   "outputs": [
    {
     "data": {
      "text/plain": [
       "sexe                       homme\n",
       "date_accident         1996-11-26\n",
       "date_consolidation          n.c.\n",
       "Name: 4, dtype: object"
      ]
     },
     "execution_count": 10,
     "metadata": {},
     "output_type": "execute_result"
    }
   ],
   "source": [
    "y_train.iloc[4]"
   ]
  },
  {
   "cell_type": "code",
   "execution_count": 9,
   "metadata": {},
   "outputs": [],
   "source": [
    "# g = terms_to_graph(words.split(\" \"), 4)\n",
    "# dico = core_dec(g, True)\n",
    "# dico"
   ]
  },
  {
   "cell_type": "markdown",
   "metadata": {
    "scrolled": false
   },
   "source": [
    "# Contexte autour de la date d':"
   ]
  },
  {
   "cell_type": "code",
   "execution_count": 478,
   "metadata": {},
   "outputs": [],
   "source": [
    "terms_discarding_the_date = [\"loi\",\n",
    "                             \"jugement\",\n",
    "                             \"audience\",\n",
    "                             \"publique\",\n",
    "                             \"tribubal\",\n",
    "                             \"decision\",\n",
    "                             \"greffe\",\n",
    "                             \"ordonnance\",\n",
    "                             ]\n",
    "def extract_X_sentences_around_all_dates(text, terms_discarding_the_date=terms_discarding_the_date, \n",
    "                                         use_date_forcing=False, date_to_look_for=None,\n",
    "                                         X=1):\n",
    "    \"\"\"\n",
    "    The text in structured format ( like in the column text of X_train)\n",
    "    - Looks for all the dates in the text\n",
    "    - for each date, extract X sentences  before and after this date (sentence meaning rows of the original doc)\n",
    "    - if a row has multiple dates, separate each date in a row (the dates will have the same context) ==> PROBLEM7\n",
    "    - remove the contexts taht contain the words in terms_discarding_the_date (meaning that those are probably other dates) ==> Build a classifier 3 classes after\n",
    "    - Return a list of tuples (context in lower + no stopwords + clean from punct , date)\n",
    "    - this context can be passed to Spacy avg vectorizer to get the avg Word embedding of the sentence\n",
    "    \"\"\"\n",
    "    if use_date_forcing :\n",
    "        assert date_to_look_for is not None\n",
    "        try :\n",
    "            date = date_parser(date_to_look_for)\n",
    "        except :\n",
    "            return \"Date NC\"\n",
    "        \n",
    "        l = [re.findall(date, STRING) if (re.findall(date, STRING)!=[]) else re.findall(date[:-5], STRING) for STRING in text ] \n",
    "        indexes = [i for i in range(len(l)) if len(l[i])!=0]\n",
    "        ll = [(\" \".join(text[i-X+1 : i+X]), l[i]) for i in indexes]\n",
    "        \n",
    "        lll = []\n",
    "        for i in range(len(ll)) :\n",
    "            if len([word for word in terms_discarding_the_date if word in ll[i][0]]) == 0 :\n",
    "                if len(ll[i][1]) == 1 :\n",
    "                    date = ll[i][1][0]\n",
    "                    context_date_removed = ll[i][0].replace(date, '')\n",
    "                    context_date_removed_cleaned = \"\"\n",
    "                    for element in context_date_removed :\n",
    "                        if not element.isalnum():\n",
    "                            if element == \" \" :\n",
    "                                context_date_removed_cleaned += element \n",
    "                        else :\n",
    "                            context_date_removed_cleaned += element \n",
    "                    lll.append((context_date_removed_cleaned, date))\n",
    "                else :\n",
    "                    for j in range(len(ll[i][1])) :\n",
    "                        date = ll[i][1][j]\n",
    "                        context_date_removed = ll[i][0].replace(date, '')\n",
    "                        context_date_removed_cleaned = ''\n",
    "                        for element in context_date_removed :\n",
    "                            if not element.isalnum():\n",
    "                                if element == \" \" :\n",
    "                                    context_date_removed_cleaned += element \n",
    "                            else :\n",
    "                                context_date_removed_cleaned += element \n",
    "                        lll.append((context_date_removed_cleaned, date))\n",
    "    else :\n",
    "        l = [re.findall(\"\\d{1,2} [a-zéû]{3,9} \\d{4}\", STRING) for STRING in text]\n",
    "        indexes = [i for i in range(len(l)) if len(l[i])!=0]\n",
    "        ll = [(\" \".join(text[i-X+1 : i+X]), l[i]) for i in indexes]\n",
    "        lll = []\n",
    "        for i in range(len(ll)) :\n",
    "            if len([word for word in terms_discarding_the_date if word in ll[i][0]]) == 0 :\n",
    "                if len(ll[i][1]) == 1 :\n",
    "                    date = ll[i][1][0]\n",
    "                    context_date_removed = ll[i][0].replace(date, '')\n",
    "                    if context_date_removed != \"\": \n",
    "                        lll.append((context_date_removed, date))\n",
    "                else :\n",
    "                    for j in range(len(ll[i][1])) :\n",
    "                        date = ll[i][1][j]\n",
    "                        context_date_removed = ll[i][0].replace(date, '')\n",
    "                        if context_date_removed != \"\": \n",
    "                            lll.append((context_date_removed, date))\n",
    "    return lll"
   ]
  },
  {
   "cell_type": "code",
   "execution_count": 288,
   "metadata": {},
   "outputs": [],
   "source": [
    "# terms_discarding_the_date = [\"loi\",\n",
    "#                              \"jugement\",\n",
    "#                              \"audience\",\n",
    "#                              \"publique\",\n",
    "#                              \"juge\",\n",
    "#                              \"tribubal\",\n",
    "#                              \"decision\",\n",
    "#                              \"greffe\",\n",
    "#                              \"conclusion\",\n",
    "#                              \"ordonnance\",\n",
    "#                              ]\n",
    "\n",
    "# def extract_X_sentences_around_all_dates(text, terms_discarding_the_date, X=1):\n",
    "#     \"\"\"\n",
    "#     The text in structured format ( like in the column text of X_train)\n",
    "#     - Looks for all the dates in the text\n",
    "#     - for each date, extract X sentences  before and after this date (sentence meaning rows of the original doc)\n",
    "#     - if a row has multiple dates, separate each date in a row (the dates will have the same context) ==> PROBLEM\n",
    "#     - Return a list of tuples (context in lower + no stopwords + clean from punct , date)\n",
    "#     - this context can be passed to Spacy avg vectorizer to get the avg Word embedding of the sentence\n",
    "#     \"\"\"\n",
    "#     l = [re.findall(\"\\d{1,2} [a-zéû]{3,9} \\d{4}\", STRING) for STRING in text]\n",
    "#     indexes = [i for i in range(len(l)) if len(l[i])!=0]\n",
    "#     ll = [(\" \".join(text[i-X+1 : i+X]), l[i]) for i in indexes]\n",
    "    \n",
    "    \n",
    "#     lll = []\n",
    "#     for i in range(len(ll)) :\n",
    "#         if len([word for word in terms_discarding_the_date if word in ll[i][0]]) == 0 :\n",
    "#             if len(ll[i][1]) == 1 :\n",
    "#                 date = ll[i][1][0]\n",
    "#                 context_date_removed = ll[i][0].replace(date, '')\n",
    "#                 lll.append((context_date_removed, date))\n",
    "#             else :\n",
    "#                 for j in range(len(ll[i][1])) :\n",
    "\n",
    "#                     date = ll[i][1][j]\n",
    "#                     context_date_removed = ll[i][0].replace(date, '')\n",
    "#                     lll.append((context_date_removed, date))\n",
    "#     return lll"
   ]
  },
  {
   "cell_type": "markdown",
   "metadata": {},
   "source": [
    "## Accident"
   ]
  },
  {
   "cell_type": "code",
   "execution_count": 447,
   "metadata": {},
   "outputs": [],
   "source": [
    "L = []\n",
    "for i in range(X_train.shape[0]) :\n",
    "#     context_to_analyse = extract_X_sentences_before_after(X_train.text_processed[i], y_train.date_accident[i], X=1)\n",
    "    context_to_analyse = extract_X_sentences_around_all_dates(X_train.text_processed.iloc[i], \n",
    "                                                              terms_discarding_the_date, \n",
    "                                                              use_date_forcing=True,\n",
    "                                                              date_to_look_for=y_train.date_accident.iloc[i])\n",
    "    if (context_to_analyse == []) or context_to_analyse == \"Date NC\" :\n",
    "        L.append(None)\n",
    "#     if context_to_analyse in [\"Pas trouvé de Date sous format DD mm (en lettre) YYYY dans le texte\", \"Date NC\"] :\n",
    "#         L.append(context_to_analyse)\n",
    "    else :\n",
    "        L.append(context_to_analyse[0][0]) # je ne prends que le premier contexte pour commencer\n",
    "#         L.append(\" \".join(context_to_analyse))\n",
    "X_train[\"context_around_accident\"] = L"
   ]
  },
  {
   "cell_type": "code",
   "execution_count": 302,
   "metadata": {},
   "outputs": [],
   "source": [
    "# L = []\n",
    "# for i in range(X_train.shape[0]) :\n",
    "#     text = X_train.context_around_accident[i]\n",
    "#     if text in [\"Pas trouvé de Date sous format DD mm (en lettre) YYYY dans le texte\", \"Date NC\"] :\n",
    "#         L.append(None)\n",
    "#     else :\n",
    "#         L.append(text)\n",
    "# X_train[\"context_around_accident_processed\"] = L"
   ]
  },
  {
   "cell_type": "markdown",
   "metadata": {},
   "source": [
    "## Consolidation"
   ]
  },
  {
   "cell_type": "code",
   "execution_count": 448,
   "metadata": {},
   "outputs": [],
   "source": [
    "L = []\n",
    "for i in range(X_train.shape[0]) :\n",
    "#     context_to_analyse = extract_X_sentences_before_after(X_train.text_processed[i], y_train.date_consolidation[i], X=1)\n",
    "#     if context_to_analyse in [\"Pas trouvé de Date sous format DD mm (en lettre) YYYY dans le texte\", \"Date NC\"] :\n",
    "#         L.append(context_to_analyse)\n",
    "    context_to_analyse = extract_X_sentences_around_all_dates(X_train.text_processed.iloc[i], \n",
    "                                                              terms_discarding_the_date, \n",
    "                                                              use_date_forcing=True,\n",
    "                                                              date_to_look_for=y_train.date_consolidation.iloc[i])\n",
    "    if (context_to_analyse == []) or context_to_analyse == \"Date NC\" :\n",
    "        L.append(None)\n",
    "    else :\n",
    "        L.append(context_to_analyse[0][0]) # je ne prends que le premier contexte pour commencer\n",
    "#         L.append(\" \".join(context_to_analyse))\n",
    "X_train[\"context_around_consolidation\"] = L"
   ]
  },
  {
   "cell_type": "code",
   "execution_count": 399,
   "metadata": {},
   "outputs": [],
   "source": [
    "# L = []\n",
    "# for i in range(X_train.shape[0]) :\n",
    "#     text = X_train.context_around_consolidation[i]\n",
    "#     if text in [\"Pas trouvé de Date sous format DD mm (en lettre) YYYY dans le texte\", \"Date NC\"] :\n",
    "#         L.append(None)\n",
    "#     else :\n",
    "#         L.append(text)\n",
    "# X_train[\"context_around_consolidation_processed\"] = L"
   ]
  },
  {
   "cell_type": "markdown",
   "metadata": {
    "heading_collapsed": true
   },
   "source": [
    "## Spacy word vectors"
   ]
  },
  {
   "cell_type": "code",
   "execution_count": 305,
   "metadata": {
    "hidden": true
   },
   "outputs": [],
   "source": [
    "import fr_core_news_md\n",
    "nlp = fr_core_news_md.load()\n",
    "\n",
    "from sklearn.linear_model import LogisticRegression\n",
    "from sklearn.svm import SVC"
   ]
  },
  {
   "cell_type": "code",
   "execution_count": 306,
   "metadata": {
    "code_folding": [
     2
    ],
    "hidden": true
   },
   "outputs": [
    {
     "name": "stderr",
     "output_type": "stream",
     "text": [
      "d:\\anaconda\\lib\\site-packages\\fuzzywuzzy\\fuzz.py:11: UserWarning: Using slow pure-python SequenceMatcher. Install python-Levenshtein to remove this warning\n",
      "  warnings.warn('Using slow pure-python SequenceMatcher. Install python-Levenshtein to remove this warning')\n"
     ]
    }
   ],
   "source": [
    "from fuzzywuzzy import process\n",
    "\n",
    "def letter_date_to_submission_date(string) :\n",
    "    \n",
    "    dico_months = {\"janvier\" : \"01\",\n",
    "               'fevrier' : \"02\",\n",
    "               \"mars\" : \"03\",\n",
    "               \"avril\" : \"04\",\n",
    "               \"mai\" : \"05\",\n",
    "               \"juin\" : \"06\",\n",
    "               \"juillet\" : \"07\",\n",
    "               \"aout\" : \"08\",\n",
    "                \"septembre\" : \"09\",\n",
    "               \"octobre\": '10',\n",
    "               \"novembre\" : \"11\",\n",
    "               \"decembre\":'12'}\n",
    "    \n",
    "    strings = string.split()\n",
    "    \n",
    "    if len(strings[0]) == 1 :\n",
    "        day = \"0\"+strings[0]\n",
    "    else :\n",
    "        day = strings[0]\n",
    "        \n",
    "    month = process.extract(strings[1], dico_months.keys())[0][0]\n",
    "    return strings[2]+\"-\"+dico_months[month]+\"-\"+day"
   ]
  },
  {
   "cell_type": "markdown",
   "metadata": {
    "hidden": true
   },
   "source": [
    "To asses the performance of our model that predicts if the context around a date is talking about `date d'accident` or `date de consolidation` :\n",
    "\n",
    "- Take split X_train using train_test_split into X_tr and X_te\n",
    "- Prepare data for model fitting :\n",
    "    - For date d'accident : \n",
    "        - remove the dates from the accident contexts of X_tr\n",
    "        - remove the punctuation from the accident contexts of X_tr\n",
    "        - remove the stopwords from the accident contexts of X_tr  \n",
    "        - use Spacy avg vectorizer or tfidf\n",
    "    - Same thing for date de conso\n",
    "    - concatenate the two \n",
    "    - fit two models : one to predict accident contexts and the other the consolidation contexts\n",
    "- On X_te :\n",
    "    - On each text apply the function extract `X_sentences_around_all_dates`\n",
    "    - for each sentence apply the Spacy vectorizer and predict using the models\n",
    "    - predict the date of which the context gave the higher probability score."
   ]
  },
  {
   "cell_type": "markdown",
   "metadata": {
    "hidden": true
   },
   "source": [
    "Results : \n",
    "- accident : 35% accuracy with tf idf approach on context extracted with X=1 and SVM classifier\n",
    "- conso : 24% accuracy with spacy word vectors approach on context extracted with X=1 and SVM classifier"
   ]
  },
  {
   "cell_type": "code",
   "execution_count": 345,
   "metadata": {
    "hidden": true
   },
   "outputs": [
    {
     "data": {
      "application/javascript": [
       "\n",
       "        if (window._pyforest_update_imports_cell) { window._pyforest_update_imports_cell('from sklearn.ensemble import GradientBoostingRegressor\\nimport matplotlib.pyplot as plt\\nfrom sklearn.ensemble import RandomForestRegressor\\nfrom sklearn.preprocessing import OneHotEncoder\\nfrom pathlib import Path\\nfrom sklearn.ensemble import RandomForestClassifier\\nfrom sklearn.ensemble import GradientBoostingClassifier\\nfrom sklearn.model_selection import train_test_split'); }\n",
       "    "
      ],
      "text/plain": [
       "<IPython.core.display.Javascript object>"
      ]
     },
     "metadata": {},
     "output_type": "display_data"
    }
   ],
   "source": [
    "X_tr, X_te = train_test_split(X_train, random_state=50)"
   ]
  },
  {
   "cell_type": "code",
   "execution_count": 346,
   "metadata": {
    "hidden": true
   },
   "outputs": [],
   "source": [
    "# train_accident_context_avg_WV = np.array([\n",
    "#     nlp(sen).vector for sen in X_tr.context_around_accident_processed if sen is not None ])\n",
    "\n",
    "# train_consolidation_context_avg_WV = np.array([\n",
    "#     nlp(sen).vector for sen in X_tr.context_around_consolidation_processed if sen is not None ])\n",
    "\n",
    "train_accident_context_avg_WV = np.array([\n",
    "    nlp(sen).vector for sen in X_tr.context_around_accident if sen is not None ])\n",
    "\n",
    "train_consolidation_context_avg_WV = np.array([\n",
    "    nlp(sen).vector for sen in X_tr.context_around_consolidation if sen is not None ])\n",
    "\n",
    "\n",
    " \n",
    "is_accident = [1 for _ in range(train_accident_context_avg_WV.shape[0])]\n",
    "is_not_accident = [0 for _ in range(train_consolidation_context_avg_WV.shape[0])]\n",
    "data = np.concatenate((train_accident_context_avg_WV, train_consolidation_context_avg_WV))\n",
    "target = np.concatenate((is_accident, is_not_accident))\n",
    "\n",
    "# clf_accident = LogisticRegression().fit(data, target)\n",
    "clf_accident = SVC(gamma='auto', probability=True).fit(data, target)\n",
    "\n",
    "###############################################\n",
    "\n",
    "is_conso = [1 for _ in range(train_consolidation_context_avg_WV.shape[0])]\n",
    "is_not_conso = [0 for _ in range(train_accident_context_avg_WV.shape[0])]\n",
    "data = np.concatenate((train_consolidation_context_avg_WV, train_accident_context_avg_WV))\n",
    "target = np.concatenate((is_conso, is_not_conso))\n",
    "\n",
    "# clf_conso = LogisticRegression().fit(data, target)\n",
    "clf_conso = SVC(gamma='auto', probability=True).fit(data, target)"
   ]
  },
  {
   "cell_type": "code",
   "execution_count": 364,
   "metadata": {
    "hidden": true
   },
   "outputs": [
    {
     "data": {
      "text/plain": [
       "(524, 300)"
      ]
     },
     "execution_count": 364,
     "metadata": {},
     "output_type": "execute_result"
    }
   ],
   "source": [
    "len(train_accident_context_avg_WV), len(train_consolidation_context_avg_WV)"
   ]
  },
  {
   "cell_type": "code",
   "execution_count": 347,
   "metadata": {
    "hidden": true
   },
   "outputs": [],
   "source": [
    "# index_not_none_accident = [ind for ind in X_te.index if X_te.context_around_accident_processed.loc[ind] is not None]\n",
    "# index_not_none_conso = [ind for ind in X_te.index if X_te.context_around_consolidation_processed.loc[ind] is not None]\n",
    "\n",
    "index_not_none_accident = [ind for ind in X_te.index if X_te.context_around_accident.loc[ind] is not None]\n",
    "index_not_none_conso = [ind for ind in X_te.index if X_te.context_around_consolidation.loc[ind] is not None]\n",
    "\n",
    "\n",
    "y_true_accident = y_train.loc[index_not_none_accident].date_accident.values\n",
    "y_true_consolidation = y_train.loc[index_not_none_conso].date_consolidation.values\n",
    "\n",
    "y_pred_accident = {}\n",
    "y_pred_conso = {}\n",
    "\n",
    "for i in X_te.index :\n",
    "    \n",
    "    use_acccident_model = False\n",
    "    use_conso_model = False\n",
    "    \n",
    "    if i in index_not_none_accident :\n",
    "        use_acccident_model = True\n",
    "        \n",
    "    if i in index_not_none_conso :\n",
    "        use_conso_model = True\n",
    "    \n",
    "    sentences_to_test = extract_X_sentences_around_all_dates(X_te.text_processed.loc[i], terms_discarding_the_date)\n",
    "    \n",
    "    probas_accident = []\n",
    "    probas_conso = []\n",
    "    \n",
    "    if use_acccident_model & use_conso_model :\n",
    "        for tup in sentences_to_test :\n",
    "            processed_sentence = tup[0]\n",
    "            WV_processed_sentence = nlp(processed_sentence).vector\n",
    "            probas_accident.append(clf_accident.predict_proba([WV_processed_sentence]))\n",
    "            probas_conso.append(clf_conso.predict_proba([WV_processed_sentence]))\n",
    "    elif use_acccident_model : \n",
    "        for tup in sentences_to_test :\n",
    "            processed_sentence = tup[0]\n",
    "            WV_processed_sentence = nlp(processed_sentence).vector\n",
    "            probas_accident.append(clf_accident.predict_proba([WV_processed_sentence]))\n",
    "    elif use_conso_model :\n",
    "        for tup in sentences_to_test :\n",
    "            processed_sentence = tup[0]\n",
    "            WV_processed_sentence = nlp(processed_sentence).vector\n",
    "            probas_conso.append(clf_conso.predict_proba([WV_processed_sentence]))\n",
    "    else :\n",
    "        pass\n",
    "            \n",
    "    threshold_accident = 0.7\n",
    "    threshold_conso = 0.7    \n",
    "\n",
    "    if use_acccident_model :\n",
    "        probas_accident = np.squeeze(probas_accident)[:,1]\n",
    "        if probas_accident.max() >= threshold_accident :\n",
    "            y_pred_accident[i] = letter_date_to_submission_date(sentences_to_test[np.argmax(probas_accident)][1])\n",
    "        else :\n",
    "            y_pred_accident[i] = \"n.c.\"\n",
    "            \n",
    "    if use_conso_model :\n",
    "        probas_conso = np.squeeze(probas_conso)[:,1]\n",
    "        if probas_conso.max() >= threshold_conso :\n",
    "            y_pred_conso[i] = letter_date_to_submission_date(sentences_to_test[np.argmax(probas_conso)][1])\n",
    "        else :\n",
    "            y_pred_conso[i] = \"n.c.\"\n",
    "    "
   ]
  },
  {
   "cell_type": "code",
   "execution_count": 348,
   "metadata": {
    "hidden": true
   },
   "outputs": [
    {
     "data": {
      "text/plain": [
       "0.5535714285714286"
      ]
     },
     "execution_count": 348,
     "metadata": {},
     "output_type": "execute_result"
    }
   ],
   "source": [
    "(y_true_accident == np.array(list(y_pred_accident.values()))).mean()"
   ]
  },
  {
   "cell_type": "code",
   "execution_count": 349,
   "metadata": {
    "hidden": true,
    "scrolled": false
   },
   "outputs": [
    {
     "data": {
      "text/plain": [
       "0.5252525252525253"
      ]
     },
     "execution_count": 349,
     "metadata": {},
     "output_type": "execute_result"
    }
   ],
   "source": [
    "(y_true_consolidation == np.array(list(y_pred_conso.values()))).mean()"
   ]
  },
  {
   "cell_type": "code",
   "execution_count": 319,
   "metadata": {
    "code_folding": [],
    "hidden": true
   },
   "outputs": [
    {
     "name": "stdout",
     "output_type": "stream",
     "text": [
      "('compagnie assurances generali procede reglement cette somme ', '17 fevrier 2012') 0.8737924124133967 2005-03-05\n"
     ]
    },
    {
     "data": {
      "application/javascript": [
       "\n",
       "        if (window._pyforest_update_imports_cell) { window._pyforest_update_imports_cell('from sklearn.ensemble import GradientBoostingRegressor\\nimport matplotlib.pyplot as plt\\nfrom sklearn.ensemble import RandomForestRegressor\\nfrom sklearn.preprocessing import OneHotEncoder\\nfrom pathlib import Path\\nfrom sklearn.ensemble import RandomForestClassifier\\nfrom sklearn.ensemble import GradientBoostingClassifier\\nfrom sklearn.model_selection import train_test_split'); }\n",
       "    "
      ],
      "text/plain": [
       "<IPython.core.display.Javascript object>"
      ]
     },
     "metadata": {},
     "output_type": "display_data"
    },
    {
     "data": {
      "application/javascript": [
       "\n",
       "        if (window._pyforest_update_imports_cell) { window._pyforest_update_imports_cell('from sklearn.ensemble import GradientBoostingRegressor\\nimport matplotlib.pyplot as plt\\nfrom sklearn.ensemble import RandomForestRegressor\\nfrom sklearn.preprocessing import OneHotEncoder\\nfrom pathlib import Path\\nfrom sklearn.ensemble import RandomForestClassifier\\nfrom sklearn.ensemble import GradientBoostingClassifier\\nfrom sklearn.model_selection import train_test_split'); }\n",
       "    "
      ],
      "text/plain": [
       "<IPython.core.display.Javascript object>"
      ]
     },
     "metadata": {},
     "output_type": "display_data"
    },
    {
     "data": {
      "application/javascript": [
       "\n",
       "        if (window._pyforest_update_imports_cell) { window._pyforest_update_imports_cell('from sklearn.ensemble import GradientBoostingRegressor\\nimport matplotlib.pyplot as plt\\nfrom sklearn.ensemble import RandomForestRegressor\\nfrom sklearn.preprocessing import OneHotEncoder\\nfrom pathlib import Path\\nfrom sklearn.ensemble import RandomForestClassifier\\nfrom sklearn.ensemble import GradientBoostingClassifier\\nfrom sklearn.model_selection import train_test_split'); }\n",
       "    "
      ],
      "text/plain": [
       "<IPython.core.display.Javascript object>"
      ]
     },
     "metadata": {},
     "output_type": "display_data"
    },
    {
     "data": {
      "text/plain": [
       "<Figure size 640x480 with 1 Axes>"
      ]
     },
     "metadata": {},
     "output_type": "display_data"
    },
    {
     "name": "stdout",
     "output_type": "stream",
     "text": [
      "('- date consolidation : ', '31 janvier 2009') 0.9999999887316658 2009-01-31\n"
     ]
    },
    {
     "data": {
      "application/javascript": [
       "\n",
       "        if (window._pyforest_update_imports_cell) { window._pyforest_update_imports_cell('from sklearn.ensemble import GradientBoostingRegressor\\nimport matplotlib.pyplot as plt\\nfrom sklearn.ensemble import RandomForestRegressor\\nfrom sklearn.preprocessing import OneHotEncoder\\nfrom pathlib import Path\\nfrom sklearn.ensemble import RandomForestClassifier\\nfrom sklearn.ensemble import GradientBoostingClassifier\\nfrom sklearn.model_selection import train_test_split'); }\n",
       "    "
      ],
      "text/plain": [
       "<IPython.core.display.Javascript object>"
      ]
     },
     "metadata": {},
     "output_type": "display_data"
    },
    {
     "data": {
      "application/javascript": [
       "\n",
       "        if (window._pyforest_update_imports_cell) { window._pyforest_update_imports_cell('from sklearn.ensemble import GradientBoostingRegressor\\nimport matplotlib.pyplot as plt\\nfrom sklearn.ensemble import RandomForestRegressor\\nfrom sklearn.preprocessing import OneHotEncoder\\nfrom pathlib import Path\\nfrom sklearn.ensemble import RandomForestClassifier\\nfrom sklearn.ensemble import GradientBoostingClassifier\\nfrom sklearn.model_selection import train_test_split'); }\n",
       "    "
      ],
      "text/plain": [
       "<IPython.core.display.Javascript object>"
      ]
     },
     "metadata": {},
     "output_type": "display_data"
    }
   ],
   "source": [
    "i = np.random.choice(X_te.index)\n",
    "\n",
    "y_true_accident_ = dict(y_train.loc[index_not_none_accident].date_accident)\n",
    "y_true_consolidation_ = dict(y_train.loc[index_not_none_conso].date_consolidation)\n",
    "\n",
    "\n",
    "use_acccident_model = False\n",
    "use_conso_model = False\n",
    "\n",
    "if i in index_not_none_accident :\n",
    "    use_acccident_model = True\n",
    "\n",
    "if i in index_not_none_conso :\n",
    "    use_conso_model = True\n",
    "\n",
    "sentences_to_test = extract_X_sentences_around_all_dates(X_te.text_processed.loc[i], terms_discarding_the_date)\n",
    "\n",
    "probas_accident = []\n",
    "probas_conso = []\n",
    "\n",
    "if use_acccident_model & use_conso_model :\n",
    "    for tup in sentences_to_test :\n",
    "        processed_sentence = tup[0]\n",
    "        WV_processed_sentence = nlp(processed_sentence).vector\n",
    "        probas_accident.append(clf_accident.predict_proba([WV_processed_sentence]))\n",
    "        probas_conso.append(clf_conso.predict_proba([WV_processed_sentence]))\n",
    "elif use_acccident_model : \n",
    "    for tup in sentences_to_test :\n",
    "        processed_sentence = tup[0]\n",
    "        WV_processed_sentence = nlp(processed_sentence).vector\n",
    "        probas_accident.append(clf_accident.predict_proba([WV_processed_sentence]))\n",
    "elif use_conso_model :\n",
    "    for tup in sentences_to_test :\n",
    "        processed_sentence = tup[0]\n",
    "        WV_processed_sentence = nlp(processed_sentence).vector\n",
    "        probas_conso.append(clf_conso.predict_proba([WV_processed_sentence]))\n",
    "\n",
    "threshold_accident = 0.7\n",
    "threshold_conso = 0.7    \n",
    "\n",
    "if use_acccident_model :\n",
    "    probas_accident = np.squeeze(probas_accident)[:,1]\n",
    "    print(sentences_to_test[np.argmax(probas_accident)], probas_accident.max(), dict(y_true_accident_)[i])\n",
    "    plt.title(\"probas of accident date context of the index {}\".format(i))\n",
    "    plt.bar(range(probas_accident.shape[0]), probas_accident);\n",
    "    plt.show()\n",
    "if use_conso_model :\n",
    "    probas_conso = np.squeeze(probas_conso)[:,1]\n",
    "    print(sentences_to_test[np.argmax(probas_conso)], probas_conso.max(), dict(y_true_consolidation_)[i])\n",
    "    plt.title(\"probas of consolidation date context of the index {}\".format(i))\n",
    "    plt.bar(range(probas_conso.shape[0]), probas_conso);"
   ]
  },
  {
   "cell_type": "markdown",
   "metadata": {},
   "source": [
    "## Tf idf approach"
   ]
  },
  {
   "cell_type": "code",
   "execution_count": 320,
   "metadata": {},
   "outputs": [],
   "source": [
    "from sklearn.feature_extraction.text import TfidfVectorizer"
   ]
  },
  {
   "cell_type": "code",
   "execution_count": 351,
   "metadata": {},
   "outputs": [],
   "source": [
    "# train_accident_corpus = [sen for sen in X_tr.context_around_accident_processed if sen is not None ]\n",
    "# train_consolidation_corpus = [sen for sen in X_tr.context_around_consolidation_processed if sen is not None ]\n",
    "\n",
    "train_accident_corpus = [sen for sen in X_tr.context_around_accident if sen is not None ]\n",
    "train_consolidation_corpus = [sen for sen in X_tr.context_around_consolidation if sen is not None ]\n",
    "\n",
    "data = np.concatenate((train_accident_corpus, train_consolidation_corpus))\n",
    "vectorizer = TfidfVectorizer()\n",
    "data_tfidf = vectorizer.fit_transform(data)\n",
    "\n",
    "\n",
    "is_accident = [1 for _ in range(len(train_accident_corpus))]\n",
    "is_not_accident = [0 for _ in range(len(train_consolidation_corpus))]\n",
    "target = np.concatenate((is_accident, is_not_accident))\n",
    "# clf_accident = LogisticRegression().fit(data, target)\n",
    "clf_accident = SVC(gamma='auto', probability=True).fit(data_tfidf, target)\n",
    "\n",
    "\n",
    "###############################################\n",
    "\n",
    "is_conso = [1 for _ in range(len(train_accident_corpus))]\n",
    "is_not_conso = [0 for _ in range(len(train_consolidation_corpus))]\n",
    "data = np.concatenate((train_consolidation_corpus, train_accident_corpus))\n",
    "target = np.concatenate((is_conso, is_not_conso))\n",
    "# clf_conso = LogisticRegression().fit(data, target)\n",
    "clf_conso = SVC(gamma='auto', probability=True).fit(data_tfidf, target)\n"
   ]
  },
  {
   "cell_type": "code",
   "execution_count": 356,
   "metadata": {},
   "outputs": [],
   "source": [
    "# index_not_none_accident = [ind for ind in X_te.index if X_te.context_around_accident_processed.loc[ind] is not None]\n",
    "# index_not_none_conso = [ind for ind in X_te.index if X_te.context_around_consolidation_processed.loc[ind] is not None]\n",
    "\n",
    "index_not_none_accident = [ind for ind in X_te.index if X_te.context_around_accident.loc[ind] is not None]\n",
    "index_not_none_conso = [ind for ind in X_te.index if X_te.context_around_consolidation.loc[ind] is not None]\n",
    "\n",
    "\n",
    "y_true_accident = y_train.loc[index_not_none_accident].date_accident.values\n",
    "y_true_consolidation = y_train.loc[index_not_none_conso].date_consolidation.values\n",
    "\n",
    "y_pred_accident = {}\n",
    "y_pred_conso = {}\n",
    "\n",
    "for i in X_te.index :\n",
    "    \n",
    "    use_acccident_model = False\n",
    "    use_conso_model = False\n",
    "    \n",
    "    if i in index_not_none_accident :\n",
    "        use_acccident_model = True\n",
    "        \n",
    "    if i in index_not_none_conso :\n",
    "        use_conso_model = True\n",
    "    \n",
    "    sentences_to_test = extract_X_sentences_around_all_dates(X_te.text_processed.loc[i], terms_discarding_the_date)\n",
    "    \n",
    "    probas_accident = []\n",
    "    probas_conso = []\n",
    "    \n",
    "    if use_acccident_model & use_conso_model :\n",
    "        for tup in sentences_to_test :\n",
    "            processed_sentence = tup[0]\n",
    "            WV_processed_sentence = nlp(processed_sentence).vector\n",
    "            tfidf_encoded_processed_sentence = vectorizer.transform([processed_sentence])\n",
    "            probas_accident.append(clf_accident.predict_proba(tfidf_encoded_processed_sentence))\n",
    "            probas_conso.append(clf_conso.predict_proba(tfidf_encoded_processed_sentence))\n",
    "            \n",
    "    elif use_acccident_model : \n",
    "        for tup in sentences_to_test :\n",
    "            processed_sentence = tup[0]\n",
    "            WV_processed_sentence = nlp(processed_sentence).vector\n",
    "            tfidf_encoded_processed_sentence = vectorizer.transform([processed_sentence])\n",
    "            probas_accident.append(clf_accident.predict_proba(tfidf_encoded_processed_sentence))\n",
    "    elif use_conso_model :\n",
    "        for tup in sentences_to_test :\n",
    "            processed_sentence = tup[0]\n",
    "            WV_processed_sentence = nlp(processed_sentence).vector\n",
    "            tfidf_encoded_processed_sentence = vectorizer.transform([processed_sentence])\n",
    "            probas_conso.append(clf_conso.predict_proba(tfidf_encoded_processed_sentence))\n",
    "    else :\n",
    "        pass\n",
    "            \n",
    "    threshold_accident = 0.7\n",
    "    threshold_conso = 0.8\n",
    "\n",
    "    if use_acccident_model :\n",
    "        probas_accident = np.squeeze(probas_accident)[:,1]\n",
    "        if probas_accident.max() >= threshold_accident :\n",
    "            y_pred_accident[i] = letter_date_to_submission_date(sentences_to_test[np.argmax(probas_accident)][1])\n",
    "        else :\n",
    "            y_pred_accident[i] = \"n.c.\"\n",
    "            \n",
    "    if use_conso_model :\n",
    "        probas_conso = np.squeeze(probas_conso)[:,1]\n",
    "        if probas_conso.max() >= threshold_conso :\n",
    "            y_pred_conso[i] = letter_date_to_submission_date(sentences_to_test[np.argmax(probas_conso)][1])\n",
    "        else :\n",
    "            y_pred_conso[i] = \"n.c.\"\n",
    "    "
   ]
  },
  {
   "cell_type": "code",
   "execution_count": 358,
   "metadata": {},
   "outputs": [
    {
     "data": {
      "text/plain": [
       "0.6607142857142857"
      ]
     },
     "execution_count": 358,
     "metadata": {},
     "output_type": "execute_result"
    }
   ],
   "source": [
    "(y_true_accident == np.array(list(y_pred_accident.values()))).mean()"
   ]
  },
  {
   "cell_type": "code",
   "execution_count": 357,
   "metadata": {},
   "outputs": [
    {
     "data": {
      "text/plain": [
       "0.010101010101010102"
      ]
     },
     "execution_count": 357,
     "metadata": {},
     "output_type": "execute_result"
    }
   ],
   "source": [
    "(y_true_consolidation == np.array(list(y_pred_conso.values()))).mean()"
   ]
  },
  {
   "cell_type": "code",
   "execution_count": 331,
   "metadata": {},
   "outputs": [
    {
     "name": "stdout",
     "output_type": "stream",
     "text": [
      "(' monsieur pierre circulait motocyclette rn 193 sens ponte leccia-corte (haute corse) ete victime grave accident circulation impliquant vehicule location appartenant holcar assure aupres covea fleet conduit monsieur gerhard h', '21 aout 2003') 0.9443406278082515 2003-08-21\n"
     ]
    },
    {
     "data": {
      "application/javascript": [
       "\n",
       "        if (window._pyforest_update_imports_cell) { window._pyforest_update_imports_cell('from sklearn.ensemble import GradientBoostingRegressor\\nimport matplotlib.pyplot as plt\\nfrom sklearn.ensemble import RandomForestRegressor\\nfrom sklearn.preprocessing import OneHotEncoder\\nfrom pathlib import Path\\nfrom sklearn.ensemble import RandomForestClassifier\\nfrom sklearn.ensemble import GradientBoostingClassifier\\nfrom sklearn.model_selection import train_test_split'); }\n",
       "    "
      ],
      "text/plain": [
       "<IPython.core.display.Javascript object>"
      ]
     },
     "metadata": {},
     "output_type": "display_data"
    },
    {
     "data": {
      "application/javascript": [
       "\n",
       "        if (window._pyforest_update_imports_cell) { window._pyforest_update_imports_cell('from sklearn.ensemble import GradientBoostingRegressor\\nimport matplotlib.pyplot as plt\\nfrom sklearn.ensemble import RandomForestRegressor\\nfrom sklearn.preprocessing import OneHotEncoder\\nfrom pathlib import Path\\nfrom sklearn.ensemble import RandomForestClassifier\\nfrom sklearn.ensemble import GradientBoostingClassifier\\nfrom sklearn.model_selection import train_test_split'); }\n",
       "    "
      ],
      "text/plain": [
       "<IPython.core.display.Javascript object>"
      ]
     },
     "metadata": {},
     "output_type": "display_data"
    },
    {
     "data": {
      "application/javascript": [
       "\n",
       "        if (window._pyforest_update_imports_cell) { window._pyforest_update_imports_cell('from sklearn.ensemble import GradientBoostingRegressor\\nimport matplotlib.pyplot as plt\\nfrom sklearn.ensemble import RandomForestRegressor\\nfrom sklearn.preprocessing import OneHotEncoder\\nfrom pathlib import Path\\nfrom sklearn.ensemble import RandomForestClassifier\\nfrom sklearn.ensemble import GradientBoostingClassifier\\nfrom sklearn.model_selection import train_test_split'); }\n",
       "    "
      ],
      "text/plain": [
       "<IPython.core.display.Javascript object>"
      ]
     },
     "metadata": {},
     "output_type": "display_data"
    },
    {
     "data": {
      "image/png": "[encoded data removed]",
      "text/plain": [
       "<Figure size 432x288 with 1 Axes>"
      ]
     },
     "metadata": {
      "needs_background": "light"
     },
     "output_type": "display_data"
    },
    {
     "name": "stdout",
     "output_type": "stream",
     "text": [
      "(' monsieur pierre circulait motocyclette rn 193 sens ponte leccia-corte (haute corse) ete victime grave accident circulation impliquant vehicule location appartenant holcar assure aupres covea fleet conduit monsieur gerhard h', '21 aout 2003') 0.9423745951042248 2005-08-21\n"
     ]
    },
    {
     "data": {
      "application/javascript": [
       "\n",
       "        if (window._pyforest_update_imports_cell) { window._pyforest_update_imports_cell('from sklearn.ensemble import GradientBoostingRegressor\\nimport matplotlib.pyplot as plt\\nfrom sklearn.ensemble import RandomForestRegressor\\nfrom sklearn.preprocessing import OneHotEncoder\\nfrom pathlib import Path\\nfrom sklearn.ensemble import RandomForestClassifier\\nfrom sklearn.ensemble import GradientBoostingClassifier\\nfrom sklearn.model_selection import train_test_split'); }\n",
       "    "
      ],
      "text/plain": [
       "<IPython.core.display.Javascript object>"
      ]
     },
     "metadata": {},
     "output_type": "display_data"
    },
    {
     "data": {
      "application/javascript": [
       "\n",
       "        if (window._pyforest_update_imports_cell) { window._pyforest_update_imports_cell('from sklearn.ensemble import GradientBoostingRegressor\\nimport matplotlib.pyplot as plt\\nfrom sklearn.ensemble import RandomForestRegressor\\nfrom sklearn.preprocessing import OneHotEncoder\\nfrom pathlib import Path\\nfrom sklearn.ensemble import RandomForestClassifier\\nfrom sklearn.ensemble import GradientBoostingClassifier\\nfrom sklearn.model_selection import train_test_split'); }\n",
       "    "
      ],
      "text/plain": [
       "<IPython.core.display.Javascript object>"
      ]
     },
     "metadata": {},
     "output_type": "display_data"
    },
    {
     "data": {
      "image/png": "[encoded data removed]",
      "text/plain": [
       "<Figure size 432x288 with 1 Axes>"
      ]
     },
     "metadata": {
      "needs_background": "light"
     },
     "output_type": "display_data"
    }
   ],
   "source": [
    "i = np.random.choice(X_te.index)\n",
    "\n",
    "y_true_accident_ = dict(y_train.loc[index_not_none_accident].date_accident)\n",
    "y_true_consolidation_ = dict(y_train.loc[index_not_none_conso].date_consolidation)\n",
    "\n",
    "use_acccident_model = False\n",
    "use_conso_model = False\n",
    "\n",
    "if i in index_not_none_accident :\n",
    "    use_acccident_model = True\n",
    "\n",
    "if i in index_not_none_conso :\n",
    "    use_conso_model = True\n",
    "\n",
    "sentences_to_test = extract_X_sentences_around_all_dates(X_te.text_processed.loc[i], terms_discarding_the_date)\n",
    "\n",
    "probas_accident = []\n",
    "probas_conso = []\n",
    "\n",
    "if use_acccident_model & use_conso_model :\n",
    "    for tup in sentences_to_test :\n",
    "        processed_sentence = tup[0]\n",
    "        WV_processed_sentence = nlp(processed_sentence).vector\n",
    "        tfidf_encoded_processed_sentence = vectorizer.transform([processed_sentence])\n",
    "        probas_accident.append(clf_accident.predict_proba(tfidf_encoded_processed_sentence))\n",
    "        probas_conso.append(clf_conso.predict_proba(tfidf_encoded_processed_sentence))\n",
    "\n",
    "elif use_acccident_model : \n",
    "    for tup in sentences_to_test :\n",
    "        processed_sentence = tup[0]\n",
    "        WV_processed_sentence = nlp(processed_sentence).vector\n",
    "        tfidf_encoded_processed_sentence = vectorizer.transform([processed_sentence])\n",
    "        probas_accident.append(clf_accident.predict_proba(tfidf_encoded_processed_sentence))\n",
    "elif use_conso_model :\n",
    "    for tup in sentences_to_test :\n",
    "        processed_sentence = tup[0]\n",
    "        WV_processed_sentence = nlp(processed_sentence).vector\n",
    "        tfidf_encoded_processed_sentence = vectorizer.transform([processed_sentence])\n",
    "        probas_conso.append(clf_conso.predict_proba(tfidf_encoded_processed_sentence))\n",
    "else :\n",
    "    pass\n",
    "\n",
    "threshold_accident = 0.7\n",
    "threshold_conso = 0.7    \n",
    "\n",
    "if use_acccident_model :\n",
    "    probas_accident = np.squeeze(probas_accident)[:,1]\n",
    "    print(sentences_to_test[np.argmax(probas_accident)], probas_accident.max(), dict(y_true_accident_)[i])\n",
    "    plt.title(\"probas of accident date context of the index {}\".format(i))\n",
    "    plt.bar(range(probas_accident.shape[0]), probas_accident);\n",
    "    plt.show()\n",
    "if use_conso_model :\n",
    "    probas_conso = np.squeeze(probas_conso)[:,1]\n",
    "    print(sentences_to_test[np.argmax(probas_conso)], probas_conso.max(), dict(y_true_consolidation_)[i])\n",
    "    plt.title(\"probas of consolidation date context of the index {}\".format(i))\n",
    "    plt.bar(range(probas_conso.shape[0]), probas_conso);"
   ]
  },
  {
   "cell_type": "markdown",
   "metadata": {},
   "source": [
    "# Three classes approach "
   ]
  },
  {
   "cell_type": "markdown",
   "metadata": {},
   "source": []
  },
  {
   "cell_type": "code",
   "execution_count": 444,
   "metadata": {},
   "outputs": [],
   "source": [
    "terms_discarding_the_date = [\"loi\",\n",
    "                             \"jugement\",\n",
    "                             \"audience\",\n",
    "                             \"publique\",\n",
    "#                              \"juge\",\n",
    "                             \"tribubal\",\n",
    "                             \"decision\",\n",
    "                             \"greffe\",\n",
    "                             \"conclusion\",\n",
    "                             \"ordonnance\",\n",
    "                             ]\n",
    "def extract_X_sentences_around_all_dates_other_dates(text, terms_discarding_the_date= terms_discarding_the_date, \n",
    "                                                     X=1):\n",
    "    \"\"\"\n",
    "    The text in structured format ( like in the column text of X_train)\n",
    "    - Looks for all the dates in the text\n",
    "    - for each date, extract X sentences  before and after this date (sentence meaning rows of the original doc)\n",
    "    - if a row has multiple dates, separate each date in a row (the dates will have the same context) ==> PROBLEM7\n",
    "    - remove the contexts taht contain the words in terms_discarding_the_date (meaning that those are probably other dates) ==> Build a classifier 3 classes after\n",
    "    - Return a list of tuples (context in lower + no stopwords + clean from punct , date)\n",
    "    - this context can be passed to Spacy avg vectorizer to get the avg Word embedding of the sentence\n",
    "    \"\"\"\n",
    "\n",
    "    l = [re.findall(\"\\d{1,2} [a-zéû]{3,9} \\d{4}\", STRING) for STRING in text]\n",
    "    indexes = [i for i in range(len(l)) if len(l[i])!=0]\n",
    "    ll = [(\" \".join(text[i-X+1 : i+X]), l[i]) for i in indexes]\n",
    "\n",
    "    lll = []\n",
    "    for i in range(len(ll)) :\n",
    "        if len([word for word in terms_discarding_the_date if word in ll[i][0]]) > 0 :\n",
    "            if len(ll[i][1]) == 1 :\n",
    "                date = ll[i][1][0]\n",
    "                context_date_removed = ll[i][0].replace(date, '')\n",
    "                lll.append((context_date_removed, date))\n",
    "    ind = np.random.choice(range(len(lll))) # je ne prends qu'un contexte aleatoirement pour commencer\n",
    "    return lll[ind][0]"
   ]
  },
  {
   "cell_type": "markdown",
   "metadata": {},
   "source": [
    "## Autre dates"
   ]
  },
  {
   "cell_type": "code",
   "execution_count": 445,
   "metadata": {},
   "outputs": [],
   "source": [
    "L = []\n",
    "for i in range(X_train.shape[0]) :\n",
    "    context_to_analyse = extract_X_sentences_around_all_dates_other_dates(X_train.text_processed.iloc[i])\n",
    "    \n",
    "    context_to_analyse_cleaned = \"\"\n",
    "    for element in context_to_analyse :\n",
    "        if not element.isalnum():\n",
    "            if element == \" \" :\n",
    "                context_to_analyse_cleaned += element \n",
    "        else :\n",
    "            context_to_analyse_cleaned += element \n",
    "    L.append(context_to_analyse_cleaned)\n",
    "    \n",
    "X_train[\"context_around_autre_date_random\"] = L"
   ]
  },
  {
   "cell_type": "code",
   "execution_count": 449,
   "metadata": {},
   "outputs": [
    {
     "data": {
      "application/javascript": [
       "\n",
       "        if (window._pyforest_update_imports_cell) { window._pyforest_update_imports_cell('from sklearn.ensemble import GradientBoostingRegressor\\nimport matplotlib.pyplot as plt\\nfrom sklearn.ensemble import RandomForestRegressor\\nfrom sklearn.preprocessing import OneHotEncoder\\nfrom pathlib import Path\\nfrom sklearn.ensemble import RandomForestClassifier\\nfrom sklearn.ensemble import GradientBoostingClassifier\\nfrom sklearn.model_selection import train_test_split'); }\n",
       "    "
      ],
      "text/plain": [
       "<IPython.core.display.Javascript object>"
      ]
     },
     "metadata": {},
     "output_type": "display_data"
    }
   ],
   "source": [
    "X_tr, X_te = train_test_split(X_train, random_state=50)"
   ]
  },
  {
   "cell_type": "markdown",
   "metadata": {},
   "source": [
    "## Word vectors approach"
   ]
  },
  {
   "cell_type": "code",
   "execution_count": 450,
   "metadata": {},
   "outputs": [],
   "source": [
    "train_accident_context_avg_WV = np.array([\n",
    "    nlp(sen).vector for sen in X_tr.context_around_accident if sen is not None ])\n",
    "\n",
    "train_consolidation_context_avg_WV = np.array([\n",
    "    nlp(sen).vector for sen in X_tr.context_around_consolidation if sen is not None ])\n",
    "\n",
    "train_other_context_avg_WV = np.array([\n",
    "    nlp(sen).vector for sen in X_tr.context_around_autre_date_random if sen is not None ])\n",
    "\n",
    "data = np.concatenate((train_accident_context_avg_WV, train_consolidation_context_avg_WV, train_other_context_avg_WV))\n",
    "\n",
    "is_accident = [0 for _ in range(train_accident_context_avg_WV.shape[0])]\n",
    "is_condo = [1 for _ in range(train_consolidation_context_avg_WV.shape[0])]\n",
    "is_other = [2 for _ in range(train_other_context_avg_WV.shape[0])]\n",
    "\n",
    "target = np.concatenate((is_accident, is_condo, is_other))\n",
    "\n",
    "# # clf_accident = LogisticRegression().fit(data, target)\n",
    "clf = SVC(gamma='auto', probability=True).fit(data, target)\n"
   ]
  },
  {
   "cell_type": "code",
   "execution_count": 487,
   "metadata": {},
   "outputs": [],
   "source": [
    "index_not_none_accident = [ind for ind in X_te.index if X_te.context_around_accident.loc[ind] is not None]\n",
    "index_not_none_conso = [ind for ind in X_te.index if X_te.context_around_consolidation.loc[ind] is not None]\n",
    "\n",
    "\n",
    "y_true_accident = y_train.loc[index_not_none_accident].date_accident.values\n",
    "y_true_consolidation = y_train.loc[index_not_none_conso].date_consolidation.values\n",
    "\n",
    "y_pred_accident = {}\n",
    "y_pred_conso = {}\n",
    "\n",
    "for i in X_te.index :\n",
    "    \n",
    "    if (i in index_not_none_accident) & (i in index_not_none_conso) :\n",
    "        \n",
    "        sentences_to_test = extract_X_sentences_around_all_dates(X_te.text_processed.loc[i], [])\n",
    "    \n",
    "        probas_predictions = []\n",
    "        for tup in sentences_to_test :\n",
    "            processed_sentence = tup[0]\n",
    "            WV_processed_sentence = nlp(processed_sentence).vector\n",
    "            probas_predictions.append(clf.predict_proba([WV_processed_sentence]))\n",
    "        probas_predictions = np.squeeze(probas_predictions)\n",
    "\n",
    "        ind_accident = np.argmax(probas_predictions[:,0])\n",
    "        ind_conso = np.argmax(probas_predictions[:,1])    \n",
    "    \n",
    "        y_pred_accident[i] = letter_date_to_submission_date(sentences_to_test[ind_accident][1])\n",
    "        y_pred_conso[i] = letter_date_to_submission_date(sentences_to_test[ind_conso][1]) \n",
    "        \n",
    "    elif i in index_not_none_accident :\n",
    "        sentences_to_test = extract_X_sentences_around_all_dates(X_te.text_processed.loc[i], [])\n",
    "        probas_predictions = []\n",
    "        for tup in sentences_to_test :\n",
    "            processed_sentence = tup[0]\n",
    "            WV_processed_sentence = nlp(processed_sentence).vector\n",
    "            probas_predictions.append(clf.predict_proba([WV_processed_sentence]))\n",
    "        probas_predictions = np.squeeze(probas_predictions)\n",
    "\n",
    "        ind_accident = np.argmax(probas_predictions[:,0])    \n",
    "        y_pred_accident[i] = letter_date_to_submission_date(sentences_to_test[ind_accident][1])\n",
    "    \n",
    "    \n",
    "    elif i in index_not_none_conso :\n",
    "        sentences_to_test = extract_X_sentences_around_all_dates(X_te.text_processed.loc[i], [])\n",
    "        probas_predictions = []\n",
    "        for tup in sentences_to_test :\n",
    "            processed_sentence = tup[0]\n",
    "            WV_processed_sentence = nlp(processed_sentence).vector\n",
    "            probas_predictions.append(clf.predict_proba([WV_processed_sentence]))\n",
    "        probas_predictions = np.squeeze(probas_predictions)\n",
    "\n",
    "        ind_conso = np.argmax(probas_predictions[:,1])   \n",
    "        y_pred_conso[i] = letter_date_to_submission_date(sentences_to_test[ind_conso][1]) \n",
    "    "
   ]
  },
  {
   "cell_type": "code",
   "execution_count": 488,
   "metadata": {},
   "outputs": [
    {
     "data": {
      "text/plain": [
       "0.6190476190476191"
      ]
     },
     "execution_count": 488,
     "metadata": {},
     "output_type": "execute_result"
    }
   ],
   "source": [
    "(y_true_accident == np.array(list(y_pred_accident.values()))).mean()"
   ]
  },
  {
   "cell_type": "code",
   "execution_count": 489,
   "metadata": {},
   "outputs": [
    {
     "data": {
      "text/plain": [
       "0.57"
      ]
     },
     "execution_count": 489,
     "metadata": {},
     "output_type": "execute_result"
    }
   ],
   "source": [
    "(y_true_consolidation == np.array(list(y_pred_conso.values()))).mean()"
   ]
  },
  {
   "cell_type": "markdown",
   "metadata": {},
   "source": [
    "## Tf idf approach"
   ]
  },
  {
   "cell_type": "code",
   "execution_count": 492,
   "metadata": {},
   "outputs": [],
   "source": [
    "train_accident_corpus = [sen for sen in X_tr.context_around_accident if sen is not None ]\n",
    "train_consolidation_corpus = [sen for sen in X_tr.context_around_consolidation if sen is not None ]\n",
    "train_other_context_corpus = [sen for sen in X_tr.context_around_autre_date_random if sen is not None]\n",
    "\n",
    "data = np.concatenate((train_accident_corpus, train_consolidation_corpus, train_other_context_corpus))\n",
    "vectorizer = TfidfVectorizer()\n",
    "data_tfidf = vectorizer.fit_transform(data)\n",
    "\n",
    "is_accident = [0 for _ in range(len(train_accident_corpus))]\n",
    "is_condo = [1 for _ in range(len(train_consolidation_corpus))]\n",
    "is_other = [2 for _ in range(len(train_other_context_corpus))]\n",
    "\n",
    "target = np.concatenate((is_accident, is_condo, is_other))\n",
    "\n",
    "clf = SVC(gamma='auto', probability=True).fit(data_tfidf, target)"
   ]
  },
  {
   "cell_type": "code",
   "execution_count": 496,
   "metadata": {},
   "outputs": [],
   "source": [
    "index_not_none_accident = [ind for ind in X_te.index if X_te.context_around_accident.loc[ind] is not None]\n",
    "index_not_none_conso = [ind for ind in X_te.index if X_te.context_around_consolidation.loc[ind] is not None]\n",
    "\n",
    "\n",
    "y_true_accident = y_train.loc[index_not_none_accident].date_accident.values\n",
    "y_true_consolidation = y_train.loc[index_not_none_conso].date_consolidation.values\n",
    "\n",
    "y_pred_accident = {}\n",
    "y_pred_conso = {}\n",
    "\n",
    "for i in X_te.index :\n",
    "    \n",
    "    if (i in index_not_none_accident) & (i in index_not_none_conso) :\n",
    "        \n",
    "        sentences_to_test = extract_X_sentences_around_all_dates(X_te.text_processed.loc[i], [])\n",
    "    \n",
    "        probas_predictions = []\n",
    "        for tup in sentences_to_test :\n",
    "            processed_sentence = tup[0]\n",
    "            tfidf_processed_sentence = vectorizer.transform([processed_sentence])\n",
    "            probas_predictions.append(clf.predict_proba(tfidf_processed_sentence))\n",
    "        probas_predictions = np.squeeze(probas_predictions)\n",
    "\n",
    "        ind_accident = np.argmax(probas_predictions[:,0])\n",
    "        ind_conso = np.argmax(probas_predictions[:,1])    \n",
    "    \n",
    "        y_pred_accident[i] = letter_date_to_submission_date(sentences_to_test[ind_accident][1])\n",
    "        y_pred_conso[i] = letter_date_to_submission_date(sentences_to_test[ind_conso][1]) \n",
    "        \n",
    "    elif i in index_not_none_accident :\n",
    "        sentences_to_test = extract_X_sentences_around_all_dates(X_te.text_processed.loc[i], [])\n",
    "        probas_predictions = []\n",
    "        for tup in sentences_to_test :\n",
    "            processed_sentence = tup[0]\n",
    "            tfidf_processed_sentence = vectorizer.transform([processed_sentence])\n",
    "            probas_predictions.append(clf.predict_proba(tfidf_processed_sentence))\n",
    "        probas_predictions = np.squeeze(probas_predictions)\n",
    "\n",
    "        ind_accident = np.argmax(probas_predictions[:,0])    \n",
    "        y_pred_accident[i] = letter_date_to_submission_date(sentences_to_test[ind_accident][1])\n",
    "    \n",
    "    \n",
    "    elif i in index_not_none_conso :\n",
    "        sentences_to_test = extract_X_sentences_around_all_dates(X_te.text_processed.loc[i], [])\n",
    "        probas_predictions = []\n",
    "        for tup in sentences_to_test :\n",
    "            processed_sentence = tup[0]\n",
    "            tfidf_processed_sentence = vectorizer.transform([processed_sentence])\n",
    "            probas_predictions.append(clf.predict_proba(tfidf_processed_sentence))\n",
    "        probas_predictions = np.squeeze(probas_predictions)\n",
    "\n",
    "        ind_conso = np.argmax(probas_predictions[:,1])   \n",
    "        y_pred_conso[i] = letter_date_to_submission_date(sentences_to_test[ind_conso][1]) \n",
    "    "
   ]
  },
  {
   "cell_type": "code",
   "execution_count": 497,
   "metadata": {},
   "outputs": [
    {
     "data": {
      "text/plain": [
       "0.7142857142857143"
      ]
     },
     "execution_count": 497,
     "metadata": {},
     "output_type": "execute_result"
    }
   ],
   "source": [
    "(y_true_accident == np.array(list(y_pred_accident.values()))).mean()"
   ]
  },
  {
   "cell_type": "code",
   "execution_count": 498,
   "metadata": {},
   "outputs": [
    {
     "data": {
      "text/plain": [
       "0.66"
      ]
     },
     "execution_count": 498,
     "metadata": {},
     "output_type": "execute_result"
    }
   ],
   "source": [
    "(y_true_consolidation == np.array(list(y_pred_conso.values()))).mean()"
   ]
  },
  {
   "cell_type": "code",
   "execution_count": null,
   "metadata": {},
   "outputs": [],
   "source": []
  },
  {
   "cell_type": "code",
   "execution_count": null,
   "metadata": {},
   "outputs": [],
   "source": []
  }
 ],
 "metadata": {
  "kernelspec": {
   "display_name": "Python 3",
   "language": "python",
   "name": "python3"
  },
  "language_info": {
   "codemirror_mode": {
    "name": "ipython",
    "version": 3
   },
   "file_extension": ".py",
   "mimetype": "text/x-python",
   "name": "python",
   "nbconvert_exporter": "python",
   "pygments_lexer": "ipython3",
   "version": "3.7.3"
  },
  "toc": {
   "base_numbering": 1,
   "nav_menu": {},
   "number_sections": true,
   "sideBar": true,
   "skip_h1_title": false,
   "title_cell": "Table of Contents",
   "title_sidebar": "Contents",
   "toc_cell": false,
   "toc_position": {},
   "toc_section_display": true,
   "toc_window_display": true
  }
 },
 "nbformat": 4,
 "nbformat_minor": 2
}

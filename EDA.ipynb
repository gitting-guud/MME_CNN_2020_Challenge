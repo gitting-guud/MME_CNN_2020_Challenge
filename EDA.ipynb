{
 "cells": [
  {
   "cell_type": "code",
   "execution_count": 1,
   "metadata": {},
   "outputs": [],
   "source": [
    "from utils import *\n",
    "%load_ext autoreload\n",
    "%autoreload 2"
   ]
  },
  {
   "cell_type": "code",
   "execution_count": 2,
   "metadata": {
    "scrolled": false
   },
   "outputs": [
    {
     "name": "stdout",
     "output_type": "stream",
     "text": [
      "Reading training data ...\n",
      "Reading training data : Done\n",
      "Reading testing data ...\n",
      "Reading testing data : Done\n"
     ]
    }
   ],
   "source": [
    "X_train, y_train, X_test = read_train_test(sentence_per_row_mode=True)"
   ]
  },
  {
   "cell_type": "code",
   "execution_count": 26,
   "metadata": {},
   "outputs": [],
   "source": [
    "X_train[\"text_joined\"] = [\" \".join(X_train.text[i]) for i in range(X_train.shape[0])]"
   ]
  },
  {
   "cell_type": "code",
   "execution_count": 4,
   "metadata": {},
   "outputs": [],
   "source": [
    "# y_train.loc[X_train[X_train.filename == \"Bordeaux_605561.txt\"].index]"
   ]
  },
  {
   "cell_type": "code",
   "execution_count": 3,
   "metadata": {},
   "outputs": [],
   "source": [
    "sex_prediction = X_train.text.apply(naive_sex_classifier, args=(0.85, 1))"
   ]
  },
  {
   "cell_type": "code",
   "execution_count": 11,
   "metadata": {},
   "outputs": [
    {
     "name": "stdout",
     "output_type": "stream",
     "text": [
      "Nombre de fois où on se trompe de sexe : 90\n",
      "Dont : 61 femmes\n"
     ]
    }
   ],
   "source": [
    "print(\"Nombre de fois où on se trompe de sexe : {}\".format((sex_prediction != y_train.sexe).sum()))\n",
    "print(\"Dont : {} femmes\".format((y_train[(sex_prediction != y_train.sexe)].sexe == \"femme\").sum()))"
   ]
  },
  {
   "cell_type": "markdown",
   "metadata": {},
   "source": [
    "***"
   ]
  },
  {
   "cell_type": "code",
   "execution_count": 42,
   "metadata": {},
   "outputs": [
    {
     "name": "stdout",
     "output_type": "stream",
     "text": [
      "Total de texte : 770\n",
      "Le nombre de fois où le mot 'victime' apparait dans le texte : 728\n",
      "Le nombre de fois où le mot 'APPELANTE' apparait dans le texte : 267\n"
     ]
    }
   ],
   "source": [
    "print(\"Total de texte : {}\".format(X_train.shape[0]))\n",
    "print(\"Le nombre de fois où le mot 'victime' apparait dans le texte : {}\".format(X_train.text_joined.str.contains(\"victime\").sum()))\n",
    "print(\"Le nombre de fois où le mot 'APPELANTE' apparait dans le texte : {}\".format(X_train.text_joined.str.contains(\"APPELANTE\").sum()))"
   ]
  },
  {
   "cell_type": "markdown",
   "metadata": {},
   "source": [
    "# Extraction du contexte autour de la date d'accident"
   ]
  },
  {
   "cell_type": "code",
   "execution_count": 59,
   "metadata": {},
   "outputs": [],
   "source": [
    "def date_parser(date_string):\n",
    "    \"\"\" Transforme une date de YYYY-mm-DD \n",
    "        en DD mm (en lettre) YYYY \"\"\"\n",
    "    \n",
    "    year_month_day = date_string.split('-')\n",
    "    \n",
    "    list_Months=['Janvier',\"Février\",\n",
    "                 'Mars','Avril','Mai','Juin','Juillet',\n",
    "                 'Aout',\"Août\",'Septembre','Octobre','Novembre',\n",
    "                 \"Décembre\"]\n",
    "    list_months=['janvier',\"février\",\n",
    "                 'mars','avril','mai','juin','juillet',\n",
    "                 'aout',\"août\",'septembre','octobre','novembre',\n",
    "                 'decembre',\"décembre\"]\n",
    "    \n",
    "    day = str(int(year_month_day[2])) # sans le 0 qui précède les unités\n",
    "    Month = list_Months[int(year_month_day[1])-1]\n",
    "    month = list_months[int(year_month_day[1])-1]\n",
    "    year = year_month_day[0]\n",
    "    \n",
    "    return day + \" \" + Month + \" \" + year, day + \" \" + month + \" \" + year"
   ]
  },
  {
   "cell_type": "code",
   "execution_count": 130,
   "metadata": {},
   "outputs": [],
   "source": [
    "def extract_X_sentences_before_after(text, date, X=2):\n",
    "    \n",
    "    try :\n",
    "        capitalized_date, non_capitalized_date = date_parser(date)\n",
    "    except :\n",
    "        return \"Date NC\"\n",
    "    \n",
    "    L1 = [capitalized_date in sen for sen in text]\n",
    "    L2 = [non_capitalized_date in sen for sen in text]\n",
    "    \n",
    "    if np.array(L1).any() :\n",
    "        index = np.where(L1)[0][0]\n",
    "    elif np.array(L2).any() :\n",
    "        index = np.where(L2)[0][0]\n",
    "    else :\n",
    "        return \"Pas trouvé de Date sous format DD mm (en lettre) YYYY dans le texte\"\n",
    "    \n",
    "    result = text[index-X : index+X+1]\n",
    "                  \n",
    "    return result\n",
    "\n",
    "def terms_to_graph(terms, window_size):\n",
    "    '''This function returns a directed, weighted igraph from lists of list of terms (the tokens from the pre-processed text)\n",
    "    e.g., ['quick','brown','fox']\n",
    "    Edges are weighted based on term co-occurence within a sliding window of fixed size 'w'\n",
    "    '''\n",
    "    \n",
    "    from_to = {}\n",
    "\n",
    "    w = min(window_size, len(terms))\n",
    "    # create initial complete graph (first w terms)\n",
    "    terms_temp = terms[0:w]\n",
    "    indexes = list(itertools.combinations(range(w), r=2))\n",
    "\n",
    "    new_edges = []\n",
    "\n",
    "    for my_tuple in indexes:\n",
    "        new_edges.append(tuple([terms_temp[i] for i in my_tuple]))\n",
    "    for new_edge in new_edges:\n",
    "        if new_edge in from_to:\n",
    "            from_to[new_edge] += 1\n",
    "        else:\n",
    "            from_to[new_edge] = 1\n",
    "\n",
    "    # then iterate over the remaining terms\n",
    "    for i in range(w, len(terms)):\n",
    "        # term to consider\n",
    "        considered_term = terms[i]\n",
    "        # all terms within sliding window\n",
    "        terms_temp = terms[(i - w + 1):(i + 1)]\n",
    "\n",
    "        # edges to try\n",
    "        candidate_edges = []\n",
    "        for p in range(w - 1):\n",
    "            candidate_edges.append((terms_temp[p], considered_term))\n",
    "\n",
    "        for try_edge in candidate_edges:\n",
    "\n",
    "            # if not self-edge\n",
    "            if try_edge[1] != try_edge[0]:\n",
    "\n",
    "                # if edge has already been seen, update its weight\n",
    "                if try_edge in from_to:\n",
    "                    from_to[try_edge] += 1\n",
    "\n",
    "                # if edge has never been seen, create it and assign it a unit weight\n",
    "                else:\n",
    "                    from_to[try_edge] = 1\n",
    "\n",
    "    # create empty graph\n",
    "    g = igraph.Graph(directed=True)\n",
    "\n",
    "    # add vertices\n",
    "    g.add_vertices(sorted(set(terms)))\n",
    "\n",
    "    # add edges, direction is preserved since the graph is directed\n",
    "    g.add_edges(list(from_to.keys()))\n",
    "\n",
    "    # set edge and vertice weights\n",
    "    g.es['weight'] = list(from_to.values()) # based on co-occurence within sliding window\n",
    "    g.vs['weight'] = g.strength(weights=list(from_to.values())) # weighted degree\n",
    "\n",
    "    return (g)\n",
    "\n",
    "def core_dec(g,weighted):\n",
    "    '''(un)weighted k-core decomposition'''\n",
    "    # work on clone of g to preserve g \n",
    "    gg = copy.deepcopy(g)\n",
    "    if not weighted:\n",
    "        gg.vs['weight'] = gg.strength() # overwrite the 'weight' vertex attribute with the unweighted degrees\n",
    "    # initialize dictionary that will contain the core numbers\n",
    "    cores_g = dict(zip(gg.vs['name'],[0]*len(gg.vs)))\n",
    "    \n",
    "    while len(gg.vs) > 0:\n",
    "        # find index of lowest degree vertex\n",
    "        min_degree = min(gg.vs['weight'])\n",
    "        index_top = gg.vs['weight'].index(min_degree)\n",
    "        name_top = gg.vs[index_top]['name']\n",
    "        # get names of its neighbors\n",
    "        neighbors = gg.vs[gg.neighbors(index_top)]['name']\n",
    "        # exclude self-edges\n",
    "        neighbors = [elt for elt in neighbors if elt!=name_top]\n",
    "        # set core number of lowest degree vertex as its degree\n",
    "        cores_g[name_top] = min_degree\n",
    "        # delete top vertex and its incident edges\n",
    "        gg.delete_vertices(index_top)\n",
    "        \n",
    "        if neighbors:\n",
    "            if weighted: \n",
    "                new_degrees = gg.strength(weights=gg.es['weight'])\n",
    "            else:\n",
    "                new_degrees = gg.strength()\n",
    "            # iterate over neighbors of top element\n",
    "            for neigh in neighbors:\n",
    "                index_n = gg.vs['name'].index(neigh)\n",
    "                gg.vs[index_n]['weight'] = max(min_degree,new_degrees[index_n])  \n",
    "        \n",
    "    return(cores_g)\n"
   ]
  },
  {
   "cell_type": "code",
   "execution_count": 131,
   "metadata": {},
   "outputs": [],
   "source": [
    "context_to_analyse = extract_X_sentences_before_after(X_train.text[0], y_train.date_accident[0], X=4)\n",
    "context_to_analyse = [sen for sen in context_to_analyse if sen]"
   ]
  },
  {
   "cell_type": "code",
   "execution_count": 136,
   "metadata": {},
   "outputs": [
    {
     "data": {
      "text/plain": [
       "['d’autre part,',\n",
       " 'DIRECTION REGIONALE DES AFFAIRES SANITAIRES ET SOCIALES AQUITAINE Cité Administrative BP 952 Rue Jules Ferry 33063 BORDEAUX CEDEX NI PRESENTE, NI REPRESENTEE PARTIE INTERVENANTE : A rendu l’arrêt réputé contradictoire suivant. La cause a été débattue et plaidée en audience publique le 19 Mars 2002 devant Monsieur MILHET, Président de Chambre, Madame LATRABE, Conseiller, Monsieur ROS, Conseiller, assistés de Nicole GALLOIS, Greffier et après qu’il en ait été délibéré par les magistrats du siège ayant assisté aux débats, les parties ayant été avisées de la date à laquelle l’arrêt serait rendu. * * * ',\n",
       " 'Le 9 avril 1991, Monsieur X... a été victime d’un accident du travail au cours duquel il a été gravement blessé. ',\n",
       " 'Suivant jugement en date du 24 avril 1997 confirmé par arrêt de la Cour en date du 30 mars 1999, le Tribunal des Affaires de Sécurité Sociale de LOT et GARONNE a dit que cet accident était dû à la faute',\n",
       " 'inexcusable de la S.A.R.L. TRANSPORTS MOREL, employeur de Monsieur X... et avant dire droit sur le préjudice, a ordonné une expertise médicale confiée au docteur A.... ']"
      ]
     },
     "execution_count": 136,
     "metadata": {},
     "output_type": "execute_result"
    }
   ],
   "source": [
    "context_to_analyse"
   ]
  },
  {
   "cell_type": "code",
   "execution_count": 132,
   "metadata": {},
   "outputs": [],
   "source": [
    "words = ' '.join(context_to_analyse)"
   ]
  },
  {
   "cell_type": "code",
   "execution_count": 142,
   "metadata": {},
   "outputs": [
    {
     "data": {
      "text/plain": [
       "'d’autre part, DIRECTION REGIONALE DES AFFAIRES SANITAIRES ET SOCIALES AQUITAINE Cité Administrative BP 952 Rue Jules Ferry 33063 BORDEAUX CEDEX NI PRESENTE, NI REPRESENTEE PARTIE INTERVENANTE : A rendu l’arrêt réputé contradictoire suivant. La cause a été débattue et plaidée en audience publique le 19 Mars 2002 devant Monsieur MILHET, Président de Chambre, Madame LATRABE, Conseiller, Monsieur ROS, Conseiller, assistés de Nicole GALLOIS, Greffier et après qu’il en ait été délibéré par les magistrats du siège ayant assisté aux débats, les parties ayant été avisées de la date à laquelle l’arrêt serait rendu. * * *  Le 9 avril 1991, Monsieur X... a été victime d’un accident du travail au cours duquel il a été gravement blessé.  Suivant jugement en date du 24 avril 1997 confirmé par arrêt de la Cour en date du 30 mars 1999, le Tribunal des Affaires de Sécurité Sociale de LOT et GARONNE a dit que cet accident était dû à la faute inexcusable de la S.A.R.L. TRANSPORTS MOREL, employeur de Monsieur X... et avant dire droit sur le préjudice, a ordonné une expertise médicale confiée au docteur A.... '"
      ]
     },
     "execution_count": 142,
     "metadata": {},
     "output_type": "execute_result"
    }
   ],
   "source": [
    "words"
   ]
  },
  {
   "cell_type": "code",
   "execution_count": 115,
   "metadata": {},
   "outputs": [],
   "source": [
    "import itertools\n",
    "import igraph\n",
    "import copy"
   ]
  },
  {
   "cell_type": "code",
   "execution_count": 146,
   "metadata": {},
   "outputs": [],
   "source": [
    "g = terms_to_graph(words.split(\" \"), 3)\n",
    "dico = core_dec(g, True)"
   ]
  },
  {
   "cell_type": "code",
   "execution_count": 144,
   "metadata": {},
   "outputs": [
    {
     "data": {
      "text/plain": [
       "'d’autre part, DIRECTION REGIONALE DES AFFAIRES SANITAIRES ET SOCIALES AQUITAINE Cité Administrative BP 952 Rue Jules Ferry 33063 BORDEAUX CEDEX NI PRESENTE, NI REPRESENTEE PARTIE INTERVENANTE : A rendu l’arrêt réputé contradictoire suivant. La cause a été débattue et plaidée en audience publique le 19 Mars 2002 devant Monsieur MILHET, Président de Chambre, Madame LATRABE, Conseiller, Monsieur ROS, Conseiller, assistés de Nicole GALLOIS, Greffier et après qu’il en ait été délibéré par les magistrats du siège ayant assisté aux débats, les parties ayant été avisées de la date à laquelle l’arrêt serait rendu. * * *  Le 9 avril 1991, Monsieur X... a été victime d’un accident du travail au cours duquel il a été gravement blessé.  Suivant jugement en date du 24 avril 1997 confirmé par arrêt de la Cour en date du 30 mars 1999, le Tribunal des Affaires de Sécurité Sociale de LOT et GARONNE a dit que cet accident était dû à la faute inexcusable de la S.A.R.L. TRANSPORTS MOREL, employeur de Monsieur X... et avant dire droit sur le préjudice, a ordonné une expertise médicale confiée au docteur A.... '"
      ]
     },
     "execution_count": 144,
     "metadata": {},
     "output_type": "execute_result"
    }
   ],
   "source": [
    "words"
   ]
  },
  {
   "cell_type": "code",
   "execution_count": 147,
   "metadata": {},
   "outputs": [
    {
     "data": {
      "text/plain": [
       "{'': 4.0,\n",
       " '*': 4.0,\n",
       " '19': 4.0,\n",
       " '1991,': 4.0,\n",
       " '1997': 4.0,\n",
       " '1999,': 4.0,\n",
       " '2002': 4.0,\n",
       " '24': 4.0,\n",
       " '30': 4.0,\n",
       " '33063': 2.0,\n",
       " '9': 4.0,\n",
       " '952': 2.0,\n",
       " ':': 3.0,\n",
       " 'A': 3.0,\n",
       " 'A....': 3.0,\n",
       " 'AFFAIRES': 2.0,\n",
       " 'AQUITAINE': 2.0,\n",
       " 'Administrative': 2.0,\n",
       " 'Affaires': 4.0,\n",
       " 'BORDEAUX': 2.0,\n",
       " 'BP': 2.0,\n",
       " 'CEDEX': 2.0,\n",
       " 'Chambre,': 4.0,\n",
       " 'Cité': 2.0,\n",
       " 'Conseiller,': 4.0,\n",
       " 'Cour': 4.0,\n",
       " 'DES': 2.0,\n",
       " 'DIRECTION': 2.0,\n",
       " 'ET': 2.0,\n",
       " 'Ferry': 2.0,\n",
       " 'GALLOIS,': 4.0,\n",
       " 'GARONNE': 4.0,\n",
       " 'Greffier': 4.0,\n",
       " 'INTERVENANTE': 3.0,\n",
       " 'Jules': 2.0,\n",
       " 'LATRABE,': 4.0,\n",
       " 'LOT': 4.0,\n",
       " 'La': 3.0,\n",
       " 'Le': 4.0,\n",
       " 'MILHET,': 4.0,\n",
       " 'MOREL,': 4.0,\n",
       " 'Madame': 4.0,\n",
       " 'Mars': 4.0,\n",
       " 'Monsieur': 4.0,\n",
       " 'NI': 3.0,\n",
       " 'Nicole': 4.0,\n",
       " 'PARTIE': 3.0,\n",
       " 'PRESENTE,': 3.0,\n",
       " 'Président': 4.0,\n",
       " 'REGIONALE': 2.0,\n",
       " 'REPRESENTEE': 3.0,\n",
       " 'ROS,': 4.0,\n",
       " 'Rue': 2.0,\n",
       " 'S.A.R.L.': 4.0,\n",
       " 'SANITAIRES': 2.0,\n",
       " 'SOCIALES': 2.0,\n",
       " 'Sociale': 4.0,\n",
       " 'Suivant': 4.0,\n",
       " 'Sécurité': 4.0,\n",
       " 'TRANSPORTS': 4.0,\n",
       " 'Tribunal': 4.0,\n",
       " 'X...': 4.0,\n",
       " 'a': 4.0,\n",
       " 'accident': 4.0,\n",
       " 'ait': 4.0,\n",
       " 'après': 4.0,\n",
       " 'arrêt': 4.0,\n",
       " 'assisté': 4.0,\n",
       " 'assistés': 4.0,\n",
       " 'au': 4.0,\n",
       " 'audience': 4.0,\n",
       " 'aux': 4.0,\n",
       " 'avant': 3.0,\n",
       " 'avisées': 4.0,\n",
       " 'avril': 4.0,\n",
       " 'ayant': 4.0,\n",
       " 'blessé.': 4.0,\n",
       " 'cause': 3.0,\n",
       " 'cet': 4.0,\n",
       " 'confirmé': 4.0,\n",
       " 'confiée': 3.0,\n",
       " 'contradictoire': 3.0,\n",
       " 'cours': 4.0,\n",
       " 'date': 4.0,\n",
       " 'de': 4.0,\n",
       " 'des': 4.0,\n",
       " 'devant': 4.0,\n",
       " 'dire': 3.0,\n",
       " 'dit': 4.0,\n",
       " 'docteur': 3.0,\n",
       " 'droit': 3.0,\n",
       " 'du': 4.0,\n",
       " 'duquel': 4.0,\n",
       " 'débats,': 4.0,\n",
       " 'débattue': 4.0,\n",
       " 'délibéré': 4.0,\n",
       " 'dû': 4.0,\n",
       " 'd’autre': 2.0,\n",
       " 'd’un': 4.0,\n",
       " 'employeur': 4.0,\n",
       " 'en': 4.0,\n",
       " 'et': 4.0,\n",
       " 'expertise': 3.0,\n",
       " 'faute': 4.0,\n",
       " 'gravement': 4.0,\n",
       " 'il': 4.0,\n",
       " 'inexcusable': 4.0,\n",
       " 'jugement': 4.0,\n",
       " 'la': 4.0,\n",
       " 'laquelle': 4.0,\n",
       " 'le': 4.0,\n",
       " 'les': 4.0,\n",
       " 'l’arrêt': 4.0,\n",
       " 'magistrats': 4.0,\n",
       " 'mars': 4.0,\n",
       " 'médicale': 3.0,\n",
       " 'ordonné': 3.0,\n",
       " 'par': 4.0,\n",
       " 'part,': 2.0,\n",
       " 'parties': 4.0,\n",
       " 'plaidée': 4.0,\n",
       " 'préjudice,': 3.0,\n",
       " 'publique': 4.0,\n",
       " 'que': 4.0,\n",
       " 'qu’il': 4.0,\n",
       " 'rendu': 3.0,\n",
       " 'rendu.': 4.0,\n",
       " 'réputé': 3.0,\n",
       " 'serait': 4.0,\n",
       " 'siège': 4.0,\n",
       " 'suivant.': 3.0,\n",
       " 'sur': 3.0,\n",
       " 'travail': 4.0,\n",
       " 'une': 3.0,\n",
       " 'victime': 4.0,\n",
       " 'à': 4.0,\n",
       " 'était': 4.0,\n",
       " 'été': 4.0}"
      ]
     },
     "execution_count": 147,
     "metadata": {},
     "output_type": "execute_result"
    }
   ],
   "source": [
    "dico"
   ]
  },
  {
   "cell_type": "code",
   "execution_count": null,
   "metadata": {},
   "outputs": [],
   "source": []
  }
 ],
 "metadata": {
  "kernelspec": {
   "display_name": "Python 3",
   "language": "python",
   "name": "python3"
  },
  "language_info": {
   "codemirror_mode": {
    "name": "ipython",
    "version": 3
   },
   "file_extension": ".py",
   "mimetype": "text/x-python",
   "name": "python",
   "nbconvert_exporter": "python",
   "pygments_lexer": "ipython3",
   "version": "3.7.3"
  }
 },
 "nbformat": 4,
 "nbformat_minor": 2
}
